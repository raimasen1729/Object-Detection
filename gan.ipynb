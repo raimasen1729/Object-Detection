{
  "nbformat": 4,
  "nbformat_minor": 0,
  "metadata": {
    "kernelspec": {
      "display_name": "Python 3",
      "language": "python",
      "name": "python3"
    },
    "language_info": {
      "codemirror_mode": {
        "name": "ipython",
        "version": 3
      },
      "file_extension": ".py",
      "mimetype": "text/x-python",
      "name": "python",
      "nbconvert_exporter": "python",
      "pygments_lexer": "ipython3",
      "version": "3.8.8"
    },
    "colab": {
      "provenance": [],
      "collapsed_sections": []
    },
    "accelerator": "GPU",
    "gpuClass": "standard"
  },
  "cells": [
    {
      "cell_type": "markdown",
      "metadata": {
        "pycharm": {
          "name": "#%% md\n"
        },
        "id": "_PGiTnKFFTNi"
      },
      "source": [
        "# CIS6800: Project 1b: Deep Learning Basics Part B\n",
        "\n",
        "### Instructions:\n",
        "* This is an individual assignment. Collaborating with others is not permitted.\n",
        "* There is no single answer to most problems in deep learning, therefore the questions will often be underspecified. You need to fill in the blanks and submit a solution that solves the (practical) problem. Document the choices (hyperparameters, features, neural network architectures, etc.) you made where specified.\n",
        "* All the code should be written in Python. You should only use PyTorch to complete this project.\n"
      ]
    },
    {
      "cell_type": "code",
      "metadata": {
        "pycharm": {
          "is_executing": true,
          "name": "#%%\n"
        },
        "id": "Q41jvpsZFTNn",
        "colab": {
          "base_uri": "https://localhost:8080/"
        },
        "outputId": "88530db3-a15f-4d1c-a572-271994b61a19"
      },
      "source": [
        "import torch\n",
        "from torch import nn\n",
        "import torchvision\n",
        "import matplotlib.pyplot as plt\n",
        "\n",
        "%matplotlib inline\n",
        "rng_seed = 1144\n",
        "\n",
        "# Download MNIST\n",
        "torchvision.datasets.MNIST('.', download=True)"
      ],
      "execution_count": 1,
      "outputs": [
        {
          "output_type": "execute_result",
          "data": {
            "text/plain": [
              "Dataset MNIST\n",
              "    Number of datapoints: 60000\n",
              "    Root location: .\n",
              "    Split: Train"
            ]
          },
          "metadata": {},
          "execution_count": 1
        }
      ]
    },
    {
      "cell_type": "markdown",
      "metadata": {
        "pycharm": {
          "name": "#%% md\n"
        },
        "id": "BxU8GMDlFTNo"
      },
      "source": [
        "## 4. Adversarial Images (30%)\n",
        "In this part you will see how you can use the gradients of the network to generate adversarial\n",
        "images. Using these images that look almost identical the original you will be able to fool\n",
        "different neural networks. You will also see that these images also affect different neural\n",
        "networks and expose a security issue of CNNs that malicious users can take advantage of.\n",
        "An example is shown in Figure 4. You are encouraged to read the relevant papers [1, 2]\n",
        "before solving this part.\n",
        "\n",
        "<div><img src=\"https://github.com/LukasZhornyak/CIS680_files/raw/main/HW1/images/fig4.png\"/></div>\n",
        "\n",
        "<center>Figure 4: An adversarial example demonstrated in [1].</center>"
      ]
    },
    {
      "cell_type": "markdown",
      "metadata": {
        "id": "Ol1GPUaqFTNp"
      },
      "source": [
        "1. (10%) Use the trained network from question 3 to generate adversarial images with\n",
        "constraints. The constraints that you have are:\n",
        "\n",
        "  1. You are not allowed to erase parts of the image, i.e. $I_\\text{pert} \\ge I$ at each pixel location.\n",
        "  2. The perturbed image has to take valid values, i.e. $-1 \\le I_\\text{pert} \\le 1$.\n",
        "\n",
        "  The algorithm works as follows:\n",
        "  \n",
        "  1. Let $I$ be a test image of your dataset that you want to perturb that is classified correctly by the network. Let $I_\\epsilon$ be the perturbation that you should initialize\n",
        "with zeros.\n",
        "  2. Feed $I_\\text{pert} = I + I_\\epsilon$ in the network.\n",
        "  3. Calculate the loss given the ground truth label ($y_\\mathrm{gt}$). Let the loss be $L(x,y |\\theta)$ where $\\theta$ are the learned weights.\n",
        "  4. Compute the gradients with respect to $I_\\text{pert}$, i.e., $\\nabla_{I_\\text{pert}} L(I_\\text{pert}, y_\\mathrm{gt} | \\theta)$. Using backpropagation, compute $\\nabla_{I_\\epsilon} L(I_\\epsilon,y_\\mathrm{gt} | \\theta)$, i.e. the gradients with respect to the perturbation.\n",
        "  5. Use the Fast Gradient Sign method to update the perturbation, i.e., $I_\\epsilon = I_\\epsilon + \\epsilon\\,\\text{sign}(\\nabla_{I_\\epsilon} L(I_\\epsilon, y_\\mathrm{gt}))$, where $\\epsilon$ is a small constant of your choice.\n",
        "  6. Repeat A-D until the network classify the input image $I_\\text{pert}$ as an arbitrary\n",
        "wrong category with confidence (probability) at least $90\\%$.\n",
        "\n",
        "  Generate 2 examples of adversarial images. Describe the difference between the adversarial images and the original images."
      ]
    },
    {
      "cell_type": "code",
      "metadata": {
        "tags": [],
        "id": "w4oRChtNFTNp"
      },
      "source": [
        "# CUDA for PyTorch\n",
        "use_cuda = torch.cuda.is_available()\n",
        "device = torch.device(\"cuda:0\" if use_cuda else \"cpu\")\n",
        "\n",
        "# Create your network here (do not change this name)\n",
        "class DigitClassification(torch.nn.Module):\n",
        "    def __init__(self):\n",
        "        super(DigitClassification, self).__init__()\n",
        "        #convolution layers\n",
        "        self.conv1 = nn.Sequential(nn.Conv2d(in_channels=1, out_channels=32, kernel_size=5, padding=\"same\"),  \n",
        "                                   nn.BatchNorm2d(32),\n",
        "                                   nn.ReLU())        \n",
        "        self.avgpool1 = nn.AvgPool2d(kernel_size=2, stride=2, padding=0) \n",
        "        self.conv2 = nn.Sequential(nn.Conv2d(in_channels=32, out_channels=32, kernel_size=5, padding=\"same\"),  \n",
        "                                   nn.BatchNorm2d(32),\n",
        "                                   nn.ReLU()) \n",
        "        self.avgpool2 = nn.AvgPool2d(kernel_size=2, stride=2, padding=0)      \n",
        "        self.conv3 = nn.Sequential(nn.Conv2d(in_channels=32, out_channels=64, kernel_size=5, padding=\"same\"),  \n",
        "                                   nn.BatchNorm2d(64),\n",
        "                                   nn.ReLU()) \n",
        "        self.avgpool3 = nn.AvgPool2d(kernel_size=2, stride=2, padding=0)\n",
        "        #linear layers\n",
        "        self.linear1 = nn.Sequential(nn.Linear(64*3*3, 64), \n",
        "                                     nn.BatchNorm1d(64),\n",
        "                                     nn.ReLU())\n",
        "        self.linear2 = nn.Linear(64, 10) #discarded softmax as cross entropy loss does it implicitly\n",
        "        \n",
        "    def forward(self, x):\n",
        "        x = self.conv1(x)\n",
        "        x = self.avgpool1(x)\n",
        "        x = self.conv2(x)\n",
        "        x = self.avgpool2(x)\n",
        "        x = self.conv3(x)\n",
        "        x = self.avgpool3(x)\n",
        "        x = self.linear1(x.reshape(x.size(0), -1))\n",
        "        x = self.linear2(x)\n",
        "        return x\n",
        "\n",
        "model_path = 'model.pth'\n",
        "model = DigitClassification()\n",
        "model.eval().load_state_dict(torch.load(model_path, map_location='cpu'))\n",
        "\n",
        "#get N images from test dataset (N corresponds to the number of examples we want to show)\n",
        "transform = torchvision.transforms.Compose([torchvision.transforms.ToTensor(), torchvision.transforms.Normalize((0.5,), (0.5,))])\n",
        "example_set = torchvision.datasets.MNIST(root='.', train=False, download=False, transform=transform)\n",
        "example_loader = torch.utils.data.DataLoader(example_set, batch_size = 2, shuffle = True) #since we want 2 examples\n",
        "images, labels = next(iter(example_loader)) \n",
        "#shape of images is [2, 1, 28, 28 ] meaning [instance number, no. of channels, height, width]\n",
        "##shape of labels is [2] meaning label for each image instance\n",
        "\n",
        "#predict on these N images. The index where the value is max is also the predicted number. That's why use argmax().\n",
        "#E.g. if the value is 11.27 in index 4 of y_pred then the argmax retrieves index 4 which is also the predicted label \"digit : 4\" of the MNIST dataset.\n",
        "y_pred = model(images).argmax(dim=1) "
      ],
      "execution_count": 2,
      "outputs": []
    },
    {
      "cell_type": "code",
      "source": [
        "print(y_pred)"
      ],
      "metadata": {
        "colab": {
          "base_uri": "https://localhost:8080/"
        },
        "id": "uJ0tEz5cqxRN",
        "outputId": "b87b1741-a7b9-45e9-b9ca-60bf8da45ca4"
      },
      "execution_count": 3,
      "outputs": [
        {
          "output_type": "stream",
          "name": "stdout",
          "text": [
            "tensor([3, 9])\n"
          ]
        }
      ]
    },
    {
      "cell_type": "code",
      "source": [
        "#visualize the original 2 examples\n",
        "from PIL import Image\n",
        "img_transform = torchvision.transforms.ToPILImage()\n",
        "plt.figure()\n",
        "\n",
        "plt.subplot(121)\n",
        "img1 = img_transform(images[0])\n",
        "plt.imshow(img1)\n",
        "\n",
        "plt.subplot(122)\n",
        "img2 = img_transform(images[1])\n",
        "plt.imshow(img2)"
      ],
      "metadata": {
        "colab": {
          "base_uri": "https://localhost:8080/",
          "height": 218
        },
        "id": "iQqhJQFzuBQ-",
        "outputId": "8af30b5e-ff72-4bc4-b6c1-623201f69b0b"
      },
      "execution_count": 4,
      "outputs": [
        {
          "output_type": "execute_result",
          "data": {
            "text/plain": [
              "<matplotlib.image.AxesImage at 0x7f044ea45610>"
            ]
          },
          "metadata": {},
          "execution_count": 4
        },
        {
          "output_type": "display_data",
          "data": {
            "text/plain": [
              "<Figure size 432x288 with 2 Axes>"
            ],
            "image/png": "[encoded data removed]"
          },
          "metadata": {
            "needs_background": "light"
          }
        }
      ]
    },
    {
      "cell_type": "code",
      "source": [
        "# don't change the signature of this function (image, image_pert -> [N, 1, H, W])\n",
        "def arbitrary_adversary(model, image, original_label):\n",
        "  loss = nn.CrossEntropyLoss()\n",
        "  e = 0.1 \n",
        "  original_label_vec = torch.zeros(image.shape[0], 10) #convert label from size [N]  to size [N,10] to represent a prob distribution\n",
        "  original_label_vec[[i for i in range(image.shape[0])], original_label] = 1\n",
        "  #print(original_label_vec)\n",
        "  image_e = torch.zeros_like(image, requires_grad=True)\n",
        "  image_pert = torch.empty_like(image, requires_grad=True)\n",
        "  conf = 0\n",
        "  y_pred = original_label\n",
        "  while not (conf > 0.9 and ((y_pred != original_label).all()==True)):\n",
        "      image_pert = torch.clamp(image + image_e, -1, 1) #fulfiling constraint 2\n",
        "      y_hat = model(image_pert)     #get the output of the network\n",
        "      y_hat = torch.nn.functional.softmax(y_hat, dim=1)  #add softmax layer as we have not added it in the network\n",
        "      y_pred = y_hat.argmax(dim=1)  #get the predicted label\n",
        "      print(y_pred)\n",
        "      conf = y_hat.max()         #get the confidence value\n",
        "      #print(conf)\n",
        "      model.zero_grad()\n",
        "      l = loss(y_hat, original_label_vec)\n",
        "      l_grad_pert = torch.autograd.grad(l, image_pert, retain_graph=True, grad_outputs=torch.ones_like(l))[0]\n",
        "      l_grad_e = torch.autograd.grad(l, image_e, retain_graph=True, grad_outputs=torch.ones_like(l))[0]\n",
        "      image_e = torch.clamp(image_e + e * torch.sign(l_grad_e), 0, None) #fulfilling constraint 1\n",
        "      \n",
        "  return image_pert\n",
        "\n",
        "img_arb_pert = arbitrary_adversary(model, images, labels)\n",
        "\n",
        "# Display images\n",
        "plt.figure()\n",
        "\n",
        "plt.subplot(121)\n",
        "img1 = img_transform(img_arb_pert[0])\n",
        "plt.imshow(img1)\n",
        "\n",
        "plt.subplot(122)\n",
        "img2 = img_transform(img_arb_pert[1])\n",
        "plt.imshow(img2)"
      ],
      "metadata": {
        "id": "srUB5ASp5AUo",
        "colab": {
          "base_uri": "https://localhost:8080/",
          "height": 305
        },
        "outputId": "6460a020-6533-4a87-c75b-1c944ffa58ac"
      },
      "execution_count": 5,
      "outputs": [
        {
          "output_type": "stream",
          "name": "stdout",
          "text": [
            "tensor([3, 9])\n",
            "tensor([3, 9])\n",
            "tensor([3, 8])\n",
            "tensor([3, 8])\n",
            "tensor([8, 8])\n"
          ]
        },
        {
          "output_type": "execute_result",
          "data": {
            "text/plain": [
              "<matplotlib.image.AxesImage at 0x7f044d878590>"
            ]
          },
          "metadata": {},
          "execution_count": 5
        },
        {
          "output_type": "display_data",
          "data": {
            "text/plain": [
              "<Figure size 432x288 with 2 Axes>"
            ],
            "image/png": "[encoded data removed]"
          },
          "metadata": {
            "needs_background": "light"
          }
        }
      ]
    },
    {
      "cell_type": "markdown",
      "metadata": {
        "id": "zgJIt0UjFTNr"
      },
      "source": [
        "2. (10%) For a test image from the dataset, choose a target label yt that you want the network to classify your image as and compute a perturbed image. Note that this is different from what you are asked in part 1, because you want your network to believe that the image has a particular label, not just misclassify the image. You need to modify appropriately the loss function and then perform gradient descent as before. You should still use the constraints from part 1."
      ]
    },
    {
      "cell_type": "code",
      "metadata": {
        "tags": [],
        "id": "NnHjmnq1FTNr",
        "colab": {
          "base_uri": "https://localhost:8080/",
          "height": 861
        },
        "outputId": "7c9f9daa-9bb6-4064-88cf-60831fa6518c"
      },
      "source": [
        "# don't change the signature of this function (image, image_pert -> [N, 1, H, W])\n",
        "def targeted_adversary(model, image, target_label):\n",
        "  loss = nn.CrossEntropyLoss()\n",
        "  e = 0.1\n",
        "  target_label_vec = torch.zeros(image.shape[0], 10) #convert label from size [1]  to size [1,10] to represent a prob distribution\n",
        "  target_label_vec[:, target_label] = 1\n",
        "  image_e = torch.zeros_like(image, requires_grad=True)\n",
        "  image_pert = torch.empty_like(image, requires_grad=True)\n",
        "  conf = 0\n",
        "  y_pred = target_label\n",
        "  while (conf < 0.9 or ((y_pred != target_label).all()==True)):\n",
        "      image_pert = torch.clamp(image + image_e, -1, 1) #fulfilling constraint 2\n",
        "      #print(image_pert)\n",
        "      #if (image_e >= 0):\n",
        "      y_hat = model(image_pert)     #get the output of the network\n",
        "      y_hat = torch.nn.functional.softmax(y_hat, dim=1)  #add softmax layer as we have not added it in the network\n",
        "\n",
        "      y_pred = y_hat.argmax(dim=1)  #get the predicted label\n",
        "      print(y_pred)\n",
        "      conf = y_hat.max()         #get the confidence value\n",
        "      #print(conf)\n",
        "      model.zero_grad()\n",
        "      l = -loss(y_hat, target_label_vec)\n",
        "      #print(l)\n",
        "      l_grad_pert = torch.autograd.grad(l, image_pert, retain_graph=True, grad_outputs=torch.ones_like(l))[0]\n",
        "      l_grad_e = torch.autograd.grad(l, image_e, retain_graph=True, grad_outputs=torch.ones_like(l))[0]\n",
        "      image_e = torch.clamp(image_e + e * torch.sign(l_grad_e), 0, None) #fulfilling constraint 1\n",
        "      \n",
        "  return image_pert\n",
        "\n",
        "img_target_pert = targeted_adversary(model, images, torch.tensor([0,2]))  #'[6,2]' is the target label\n",
        "\n",
        "# Display images\n",
        "plt.figure()\n",
        "\n",
        "plt.subplot(121)\n",
        "img1 = img_transform(img_target_pert[0])\n",
        "plt.imshow(img1)\n",
        "\n",
        "plt.subplot(122)\n",
        "img2 = img_transform(img_target_pert[1])\n",
        "plt.imshow(img2)"
      ],
      "execution_count": 6,
      "outputs": [
        {
          "output_type": "stream",
          "name": "stdout",
          "text": [
            "tensor([3, 9])\n",
            "tensor([3, 9])\n",
            "tensor([3, 8])\n",
            "tensor([3, 9])\n",
            "tensor([8, 9])\n",
            "tensor([3, 8])\n",
            "tensor([1, 5])\n",
            "tensor([9, 9])\n",
            "tensor([3, 8])\n",
            "tensor([1, 0])\n",
            "tensor([8, 0])\n",
            "tensor([1, 0])\n",
            "tensor([9, 0])\n",
            "tensor([2, 0])\n",
            "tensor([2, 0])\n",
            "tensor([2, 0])\n",
            "tensor([2, 0])\n",
            "tensor([2, 0])\n",
            "tensor([2, 0])\n",
            "tensor([2, 0])\n",
            "tensor([2, 0])\n",
            "tensor([2, 0])\n",
            "tensor([2, 0])\n",
            "tensor([2, 0])\n",
            "tensor([2, 0])\n",
            "tensor([2, 0])\n",
            "tensor([2, 0])\n",
            "tensor([2, 0])\n",
            "tensor([2, 0])\n",
            "tensor([2, 0])\n",
            "tensor([2, 0])\n",
            "tensor([2, 0])\n",
            "tensor([2, 0])\n",
            "tensor([2, 0])\n",
            "tensor([2, 0])\n",
            "tensor([2, 0])\n",
            "tensor([0, 0])\n"
          ]
        },
        {
          "output_type": "execute_result",
          "data": {
            "text/plain": [
              "<matplotlib.image.AxesImage at 0x7f044d7c0350>"
            ]
          },
          "metadata": {},
          "execution_count": 6
        },
        {
          "output_type": "display_data",
          "data": {
            "text/plain": [
              "<Figure size 432x288 with 2 Axes>"
            ],
            "image/png": "[encoded data removed]"
          },
          "metadata": {
            "needs_background": "light"
          }
        }
      ]
    },
    {
      "cell_type": "markdown",
      "metadata": {
        "id": "MIW1jhNhFTNs"
      },
      "source": [
        "<!-- BEGIN QUESTION -->\n",
        "\n",
        "3. (10%) Retrain the network from the previous problem. Use some of the adversarial images you generated in parts (1) and (2) and feed them in the retrained network. What do you observe?"
      ]
    },
    {
      "cell_type": "markdown",
      "metadata": {
        "id": "bNx3E3qXFTNs"
      },
      "source": [
        "_Type your answer here, replacing this text._"
      ]
    },
    {
      "cell_type": "code",
      "source": [
        "#from torch.autograd import Variable"
      ],
      "metadata": {
        "id": "DD7faC2JTNfg"
      },
      "execution_count": 7,
      "outputs": []
    },
    {
      "cell_type": "code",
      "metadata": {
        "tags": [],
        "id": "Sbzhroq4FTNt",
        "colab": {
          "base_uri": "https://localhost:8080/"
        },
        "outputId": "4494662c-86d1-4c9f-ebc1-a46f849fd13d"
      },
      "source": [
        "'''\n",
        "#Creating new train and test set for being robust to adverserial attack\n",
        "\n",
        "#Creating new train set\n",
        "og_train_set = torchvision.datasets.MNIST(root='.', train=True, download=False, transform=transform)\n",
        "train_loader = torch.utils.data.DataLoader(og_train_set, batch_size = len(og_train_set), shuffle = False) #loading the whole thing in batch. Also do not shuffle\n",
        "pert_train_loader = torch.utils.data.DataLoader(og_train_set, batch_size = 1000, shuffle = False) #get 1000 of the train data in batch for adv training. Also do not shuffle\n",
        "og_images, og_labels = next(iter(train_loader))  #get original images and labels from the MNIST data\n",
        "images, labels = next(iter(pert_train_loader))  #get 50 of the original images and labels from MNIST data\n",
        "image_pert_train = arbitrary_adversary(model, images, labels)  #conduct perturbation on the images only \n",
        "new_train_images = Variable(torch.cat((og_images, image_pert_train)))   #create new set of images containing og images and perturbed images. Also wrap it in a Variable to allow gradients to be calculated later while training \n",
        "new_train_labels = Variable(torch.cat((og_labels, labels)))   #create new set of labels containing og labels and ground truth labels of perturbed imahes\n",
        "new_train_dataset = torch.utils.data.TensorDataset(new_train_images, new_train_labels)  #combine images and labels to form a new dataset\n",
        "new_train_loader = torch.utils.data.DataLoader(new_train_dataset, batch_size=32, shuffle = True)  #now use this loader in batch size 32 and also shuffle it this time\n",
        "\n",
        "#Creating new test set\n",
        "og_test_set = torchvision.datasets.MNIST(root='.', train=False, download=False, transform=transform)\n",
        "test_loader = torch.utils.data.DataLoader(og_test_set, batch_size = len(og_test_set), shuffle = False)\n",
        "pert_test_loader = torch.utils.data.DataLoader(og_test_set, batch_size = 50, shuffle = False)\n",
        "og_images, og_labels = next(iter(test_loader)) \n",
        "images, labels = next(iter(pert_test_loader)) \n",
        "image_pert_test = arbitrary_adversary(model, images, labels)\n",
        "new_test_images = Variable(torch.cat((og_images, image_pert_test)))\n",
        "new_test_labels = Variable(torch.cat((og_labels, labels)))\n",
        "\n",
        "new_test_dataset = torch.utils.data.TensorDataset(new_test_images, new_test_labels)\n",
        "new_test_loader = torch.utils.data.DataLoader(new_test_dataset, batch_size=32, shuffle = True)\n",
        "'''"
      ],
      "execution_count": 8,
      "outputs": [
        {
          "output_type": "stream",
          "name": "stdout",
          "text": [
            "tensor([5, 0, 4, 1, 9, 2, 1, 3, 1, 4, 3, 5, 3, 6, 1, 7, 2, 8, 6, 9, 4, 0, 9, 1,\n",
            "        1, 2, 4, 3, 2, 7, 3, 8, 6, 9, 0, 5, 6, 0, 7, 6, 1, 8, 7, 9, 3, 9, 8, 5,\n",
            "        9, 3, 3, 0, 7, 4, 9, 8, 0, 9, 4, 1, 4, 4, 6, 0, 4, 5, 6, 1, 0, 0, 1, 7,\n",
            "        1, 6, 3, 0, 2, 1, 1, 7, 9, 0, 2, 6, 7, 8, 3, 9, 0, 4, 6, 7, 4, 6, 8, 0,\n",
            "        7, 8, 3, 1, 5, 7, 1, 7, 1, 1, 6, 3, 0, 2, 9, 3, 1, 1, 0, 4, 9, 2, 0, 0,\n",
            "        2, 0, 2, 7, 1, 8, 6, 4, 1, 6, 3, 4, 5, 9, 1, 3, 3, 8, 5, 4, 7, 7, 4, 2,\n",
            "        8, 5, 8, 6, 2, 3, 4, 6, 1, 9, 9, 6, 0, 3, 7, 2, 8, 2, 9, 4, 4, 6, 4, 9,\n",
            "        7, 0, 9, 2, 9, 5, 1, 5, 9, 1, 2, 3, 2, 3, 5, 9, 1, 7, 6, 2, 8, 2, 2, 5,\n",
            "        0, 7, 4, 9, 7, 8, 3, 2, 1, 1, 8, 3, 6, 1, 0, 3, 1, 0, 0, 1, 7, 2, 7, 3,\n",
            "        0, 4, 6, 5, 2, 6, 4, 7, 1, 8, 9, 9, 3, 0, 7, 1, 0, 2, 0, 3, 5, 4, 6, 5,\n",
            "        8, 6, 3, 7, 5, 8, 0, 9, 1, 0, 3, 1, 2, 2, 3, 3, 6, 4, 7, 5, 0, 6, 2, 7,\n",
            "        9, 8, 5, 9, 2, 1, 1, 4, 4, 5, 6, 4, 1, 2, 5, 3, 9, 3, 9, 0, 5, 9, 6, 5,\n",
            "        7, 4, 1, 3, 4, 0, 4, 8, 0, 4, 3, 6, 8, 7, 6, 0, 9, 7, 5, 7, 2, 1, 1, 6,\n",
            "        8, 9, 4, 1, 5, 2, 2, 9, 0, 3, 9, 6, 7, 2, 0, 3, 5, 4, 3, 6, 5, 8, 9, 5,\n",
            "        4, 7, 4, 2, 7, 3, 4, 8, 9, 1, 9, 2, 8, 7, 9, 1, 8, 7, 4, 1, 3, 1, 1, 0,\n",
            "        2, 3, 9, 4, 9, 2, 1, 6, 8, 4, 7, 7, 4, 4, 9, 2, 5, 7, 2, 4, 4, 2, 1, 9,\n",
            "        7, 2, 8, 7, 6, 9, 2, 2, 3, 8, 1, 6, 5, 1, 1, 0, 2, 6, 4, 5, 8, 3, 1, 5,\n",
            "        1, 9, 2, 7, 4, 4, 4, 8, 1, 5, 8, 9, 5, 6, 7, 9, 9, 3, 7, 0, 9, 0, 6, 6,\n",
            "        2, 3, 9, 0, 7, 5, 4, 8, 0, 9, 4, 1, 2, 8, 7, 1, 2, 6, 1, 0, 3, 0, 1, 1,\n",
            "        8, 2, 0, 3, 9, 4, 0, 5, 0, 6, 1, 7, 7, 8, 1, 9, 2, 0, 5, 1, 2, 2, 7, 3,\n",
            "        5, 4, 9, 7, 1, 8, 3, 9, 6, 0, 3, 1, 1, 2, 6, 3, 5, 7, 6, 8, 3, 9, 5, 8,\n",
            "        5, 7, 6, 1, 1, 3, 1, 7, 5, 5, 5, 2, 5, 8, 7, 0, 9, 7, 7, 5, 0, 9, 0, 0,\n",
            "        8, 9, 2, 4, 8, 1, 6, 1, 6, 5, 1, 8, 3, 4, 0, 5, 5, 8, 3, 6, 2, 3, 9, 2,\n",
            "        1, 1, 5, 2, 1, 3, 2, 8, 7, 3, 7, 2, 4, 6, 9, 7, 2, 4, 2, 8, 1, 1, 3, 8,\n",
            "        4, 0, 6, 5, 9, 3, 0, 9, 2, 4, 7, 1, 2, 9, 4, 2, 6, 1, 8, 9, 0, 6, 6, 7,\n",
            "        9, 9, 8, 0, 1, 4, 4, 6, 7, 1, 5, 7, 0, 3, 5, 8, 4, 7, 1, 2, 5, 9, 5, 6,\n",
            "        7, 5, 9, 8, 8, 3, 6, 9, 7, 0, 7, 5, 7, 1, 1, 0, 7, 9, 2, 3, 7, 3, 2, 4,\n",
            "        1, 6, 2, 7, 5, 5, 7, 4, 0, 2, 6, 3, 6, 4, 0, 4, 2, 6, 0, 0, 0, 0, 3, 1,\n",
            "        6, 2, 2, 3, 1, 4, 1, 5, 4, 6, 4, 7, 2, 8, 7, 9, 2, 0, 5, 1, 4, 2, 8, 3,\n",
            "        2, 4, 1, 5, 4, 6, 0, 7, 9, 8, 4, 9, 8, 0, 1, 1, 0, 2, 2, 3, 2, 4, 4, 5,\n",
            "        9, 6, 5, 7, 7, 8, 8, 9, 7, 4, 7, 3, 2, 0, 8, 6, 8, 6, 1, 6, 8, 9, 4, 0,\n",
            "        9, 0, 4, 1, 5, 4, 7, 5, 3, 7, 4, 9, 8, 5, 8, 6, 3, 8, 6, 9, 9, 1, 8, 3,\n",
            "        5, 8, 6, 5, 9, 7, 2, 5, 0, 8, 5, 1, 1, 0, 9, 1, 8, 6, 7, 0, 9, 3, 0, 8,\n",
            "        8, 9, 6, 7, 8, 4, 7, 5, 9, 2, 6, 7, 4, 5, 9, 2, 3, 1, 6, 3, 9, 2, 2, 5,\n",
            "        6, 8, 0, 7, 7, 1, 9, 8, 7, 0, 9, 9, 4, 6, 2, 8, 5, 1, 4, 1, 5, 5, 1, 7,\n",
            "        3, 6, 4, 3, 2, 5, 6, 4, 4, 0, 4, 4, 6, 7, 2, 4, 3, 3, 8, 0, 0, 3, 2, 2,\n",
            "        9, 8, 2, 3, 7, 0, 1, 1, 0, 2, 3, 3, 8, 4, 3, 5, 7, 6, 4, 7, 7, 8, 5, 9,\n",
            "        7, 0, 3, 1, 6, 2, 4, 3, 4, 4, 7, 5, 9, 6, 9, 0, 7, 1, 4, 2, 7, 3, 6, 7,\n",
            "        5, 8, 4, 5, 5, 2, 7, 1, 1, 5, 6, 8, 5, 8, 4, 0, 7, 9, 9, 2, 9, 7, 7, 8,\n",
            "        7, 4, 2, 6, 9, 1, 7, 0, 6, 4, 2, 5, 7, 0, 7, 1, 0, 3, 7, 6, 5, 0, 6, 1,\n",
            "        5, 1, 7, 8, 5, 0, 3, 4, 7, 7, 5, 7, 8, 6, 9, 3, 8, 6, 1, 0, 9, 7, 1, 3,\n",
            "        0, 5, 6, 4, 4, 2, 4, 4, 3, 1, 7, 7, 6, 0, 3, 6])\n",
            "tensor([5, 0, 4, 1, 9, 2, 1, 3, 1, 4, 3, 5, 3, 6, 1, 7, 2, 8, 6, 9, 4, 0, 9, 1,\n",
            "        1, 2, 4, 3, 2, 2, 3, 8, 6, 9, 0, 5, 6, 0, 7, 6, 1, 8, 7, 9, 3, 9, 8, 5,\n",
            "        9, 3, 3, 0, 7, 4, 4, 8, 0, 9, 4, 1, 4, 4, 6, 0, 4, 5, 6, 1, 0, 0, 1, 7,\n",
            "        1, 6, 3, 0, 2, 1, 1, 7, 9, 0, 2, 6, 7, 8, 3, 9, 0, 4, 6, 7, 4, 6, 8, 0,\n",
            "        7, 8, 3, 1, 5, 7, 1, 7, 1, 1, 6, 3, 0, 2, 9, 3, 1, 1, 0, 4, 9, 2, 0, 0,\n",
            "        2, 0, 2, 7, 1, 8, 6, 4, 1, 6, 3, 4, 1, 9, 1, 3, 3, 8, 5, 4, 2, 7, 4, 2,\n",
            "        8, 5, 8, 6, 2, 3, 4, 6, 1, 9, 9, 6, 0, 3, 7, 2, 8, 2, 9, 4, 4, 6, 4, 9,\n",
            "        7, 0, 9, 2, 7, 5, 1, 5, 9, 1, 2, 3, 1, 3, 5, 9, 1, 7, 6, 2, 8, 2, 2, 5,\n",
            "        0, 7, 4, 9, 7, 8, 3, 2, 1, 1, 8, 3, 6, 1, 0, 3, 1, 0, 0, 1, 1, 2, 7, 3,\n",
            "        0, 4, 6, 5, 2, 6, 4, 7, 3, 8, 9, 9, 3, 0, 7, 1, 0, 2, 0, 3, 5, 4, 6, 5,\n",
            "        8, 6, 3, 7, 5, 8, 0, 9, 1, 0, 3, 1, 2, 2, 3, 3, 6, 4, 7, 5, 0, 6, 2, 7,\n",
            "        9, 8, 5, 9, 2, 1, 1, 4, 4, 5, 6, 4, 1, 2, 5, 3, 9, 3, 9, 0, 5, 9, 6, 5,\n",
            "        7, 4, 1, 3, 4, 0, 4, 8, 0, 4, 3, 6, 8, 7, 6, 0, 9, 7, 5, 7, 2, 1, 1, 6,\n",
            "        8, 9, 2, 1, 5, 2, 2, 9, 0, 3, 9, 6, 7, 2, 0, 3, 5, 4, 3, 6, 5, 8, 9, 5,\n",
            "        4, 7, 4, 2, 9, 3, 7, 8, 9, 1, 9, 2, 8, 7, 9, 1, 8, 7, 9, 1, 3, 1, 1, 0,\n",
            "        2, 3, 9, 4, 9, 2, 1, 6, 8, 4, 7, 7, 4, 4, 9, 2, 5, 7, 2, 4, 4, 2, 1, 9,\n",
            "        7, 2, 8, 7, 6, 9, 2, 2, 3, 8, 1, 6, 5, 1, 1, 0, 2, 6, 4, 5, 3, 3, 1, 5,\n",
            "        1, 9, 2, 7, 4, 4, 4, 8, 1, 5, 8, 9, 5, 6, 7, 9, 9, 3, 7, 0, 9, 0, 6, 6,\n",
            "        2, 3, 9, 0, 7, 5, 4, 8, 0, 9, 4, 1, 2, 8, 7, 1, 2, 6, 1, 0, 3, 0, 1, 1,\n",
            "        8, 2, 0, 3, 9, 4, 0, 5, 0, 6, 1, 7, 7, 8, 6, 9, 2, 0, 5, 1, 2, 2, 7, 3,\n",
            "        5, 4, 9, 7, 1, 8, 3, 9, 6, 0, 3, 1, 1, 2, 0, 3, 5, 7, 6, 8, 2, 9, 5, 8,\n",
            "        5, 7, 6, 1, 1, 3, 1, 7, 5, 5, 5, 2, 5, 8, 2, 0, 9, 7, 7, 5, 0, 9, 0, 0,\n",
            "        8, 9, 2, 4, 8, 1, 6, 1, 6, 5, 1, 8, 3, 4, 0, 5, 5, 8, 3, 6, 2, 3, 9, 2,\n",
            "        1, 1, 5, 2, 1, 3, 2, 8, 7, 3, 7, 3, 4, 6, 9, 7, 2, 4, 2, 8, 1, 1, 3, 8,\n",
            "        4, 0, 6, 5, 9, 3, 0, 9, 2, 4, 7, 1, 2, 9, 4, 2, 6, 1, 8, 9, 0, 6, 6, 7,\n",
            "        9, 9, 8, 0, 1, 8, 4, 6, 7, 1, 5, 7, 0, 3, 5, 8, 4, 7, 1, 2, 5, 9, 5, 6,\n",
            "        7, 5, 9, 8, 8, 3, 6, 9, 7, 0, 2, 5, 7, 1, 1, 0, 7, 9, 2, 3, 7, 3, 2, 8,\n",
            "        1, 6, 2, 7, 5, 5, 7, 4, 0, 2, 6, 3, 6, 4, 0, 4, 2, 6, 0, 0, 0, 0, 3, 1,\n",
            "        6, 2, 2, 3, 1, 4, 1, 5, 4, 6, 4, 7, 2, 8, 7, 9, 2, 0, 5, 1, 4, 2, 8, 3,\n",
            "        2, 4, 1, 5, 4, 6, 0, 7, 9, 8, 4, 9, 8, 0, 1, 1, 0, 2, 2, 3, 2, 4, 7, 5,\n",
            "        9, 6, 5, 7, 7, 8, 8, 9, 7, 4, 7, 3, 2, 0, 8, 6, 8, 6, 1, 6, 8, 9, 4, 0,\n",
            "        9, 0, 4, 1, 5, 4, 7, 5, 3, 7, 9, 9, 8, 5, 8, 6, 3, 8, 6, 9, 9, 1, 8, 3,\n",
            "        5, 8, 6, 5, 8, 7, 2, 5, 0, 8, 2, 1, 1, 0, 9, 1, 8, 6, 9, 0, 9, 3, 0, 8,\n",
            "        8, 9, 6, 7, 8, 4, 7, 5, 9, 2, 6, 7, 4, 5, 9, 2, 3, 1, 6, 3, 9, 2, 2, 5,\n",
            "        6, 8, 0, 7, 7, 1, 9, 8, 7, 0, 9, 9, 4, 6, 2, 8, 5, 1, 4, 1, 5, 5, 1, 7,\n",
            "        3, 6, 4, 3, 2, 5, 6, 4, 4, 0, 4, 4, 6, 7, 2, 4, 3, 3, 8, 0, 0, 3, 2, 2,\n",
            "        9, 8, 2, 3, 7, 0, 1, 1, 0, 2, 3, 3, 8, 4, 3, 5, 7, 6, 4, 7, 2, 8, 5, 9,\n",
            "        7, 0, 3, 1, 6, 2, 4, 3, 4, 4, 7, 5, 9, 6, 9, 0, 7, 1, 4, 2, 7, 3, 6, 7,\n",
            "        5, 8, 4, 5, 5, 2, 7, 1, 1, 5, 6, 8, 5, 8, 4, 0, 2, 9, 9, 2, 9, 7, 7, 8,\n",
            "        7, 4, 2, 6, 9, 1, 7, 0, 6, 4, 2, 5, 7, 0, 7, 1, 0, 3, 7, 6, 5, 0, 6, 1,\n",
            "        5, 1, 7, 8, 5, 0, 3, 4, 9, 7, 5, 2, 8, 6, 9, 3, 8, 6, 1, 0, 9, 7, 1, 3,\n",
            "        0, 5, 6, 4, 4, 2, 4, 4, 3, 1, 7, 7, 6, 0, 3, 6])\n",
            "tensor([3, 0, 9, 1, 8, 2, 1, 3, 9, 2, 3, 8, 3, 6, 1, 7, 2, 8, 6, 8, 4, 0, 8, 1,\n",
            "        1, 2, 4, 3, 2, 2, 3, 8, 6, 7, 0, 5, 6, 0, 2, 6, 1, 8, 1, 8, 3, 9, 8, 5,\n",
            "        3, 3, 3, 0, 7, 9, 8, 8, 0, 9, 8, 1, 9, 4, 6, 0, 4, 5, 6, 7, 0, 0, 2, 2,\n",
            "        1, 6, 3, 0, 2, 1, 2, 2, 8, 0, 2, 6, 7, 8, 3, 8, 0, 4, 6, 7, 4, 6, 8, 0,\n",
            "        7, 8, 3, 1, 8, 7, 1, 7, 1, 1, 6, 3, 0, 2, 9, 3, 1, 1, 0, 4, 9, 2, 0, 0,\n",
            "        7, 0, 2, 7, 1, 8, 6, 4, 1, 6, 3, 4, 1, 9, 4, 3, 3, 8, 5, 4, 2, 7, 4, 2,\n",
            "        8, 5, 8, 6, 2, 3, 4, 6, 2, 9, 8, 6, 0, 3, 7, 2, 8, 2, 8, 4, 4, 6, 4, 9,\n",
            "        7, 0, 9, 2, 7, 8, 1, 5, 9, 1, 2, 3, 1, 3, 5, 9, 1, 7, 6, 2, 8, 2, 5, 5,\n",
            "        0, 2, 4, 9, 7, 8, 3, 2, 1, 1, 8, 3, 6, 1, 0, 3, 1, 0, 0, 1, 1, 2, 7, 3,\n",
            "        0, 2, 6, 5, 2, 6, 9, 7, 3, 8, 9, 8, 3, 0, 2, 1, 6, 2, 6, 3, 5, 2, 6, 5,\n",
            "        8, 6, 3, 7, 5, 8, 0, 8, 1, 0, 2, 1, 2, 2, 8, 3, 8, 4, 7, 5, 0, 6, 2, 7,\n",
            "        9, 8, 8, 8, 2, 1, 1, 2, 4, 5, 2, 2, 1, 2, 5, 3, 9, 3, 5, 0, 5, 8, 6, 5,\n",
            "        7, 2, 1, 3, 4, 0, 4, 8, 0, 2, 3, 6, 8, 7, 6, 0, 8, 7, 5, 7, 2, 1, 1, 6,\n",
            "        8, 8, 2, 1, 5, 2, 2, 9, 0, 3, 9, 6, 9, 2, 0, 3, 5, 4, 3, 4, 8, 8, 9, 5,\n",
            "        4, 7, 4, 2, 9, 3, 7, 8, 4, 1, 9, 2, 8, 7, 9, 1, 8, 2, 9, 2, 3, 1, 1, 0,\n",
            "        2, 3, 8, 4, 8, 2, 1, 6, 8, 4, 1, 7, 4, 4, 9, 2, 9, 7, 2, 4, 4, 2, 1, 9,\n",
            "        7, 2, 5, 7, 6, 9, 8, 4, 3, 8, 1, 6, 5, 1, 1, 0, 2, 6, 2, 5, 3, 3, 1, 5,\n",
            "        4, 4, 2, 7, 9, 4, 4, 8, 2, 5, 5, 9, 9, 6, 7, 8, 8, 3, 7, 0, 9, 0, 6, 6,\n",
            "        2, 3, 9, 0, 3, 5, 4, 8, 6, 8, 4, 1, 2, 8, 7, 2, 2, 6, 1, 0, 3, 0, 1, 1,\n",
            "        6, 2, 0, 3, 8, 4, 0, 5, 0, 6, 1, 7, 7, 8, 6, 9, 2, 0, 5, 1, 2, 2, 7, 3,\n",
            "        8, 8, 4, 2, 1, 8, 3, 7, 6, 9, 3, 1, 8, 2, 0, 3, 6, 2, 6, 8, 2, 8, 8, 8,\n",
            "        5, 7, 8, 1, 1, 3, 1, 7, 5, 5, 3, 2, 5, 5, 2, 0, 9, 7, 7, 5, 6, 9, 0, 9,\n",
            "        8, 9, 3, 8, 8, 7, 6, 2, 6, 5, 1, 8, 3, 4, 2, 5, 5, 8, 3, 4, 2, 3, 9, 3,\n",
            "        3, 1, 5, 2, 1, 3, 2, 8, 7, 3, 7, 3, 4, 6, 9, 7, 2, 4, 2, 8, 2, 1, 3, 8,\n",
            "        9, 0, 8, 5, 9, 3, 0, 9, 3, 4, 2, 1, 7, 4, 4, 2, 6, 1, 8, 9, 6, 6, 2, 7,\n",
            "        9, 8, 8, 0, 7, 8, 9, 6, 7, 1, 5, 2, 0, 3, 5, 8, 4, 7, 1, 2, 5, 9, 5, 6,\n",
            "        2, 5, 4, 8, 8, 3, 8, 8, 7, 0, 2, 2, 2, 2, 1, 0, 7, 4, 2, 3, 1, 3, 8, 8,\n",
            "        1, 6, 2, 7, 5, 5, 7, 4, 0, 7, 6, 3, 6, 8, 0, 2, 2, 6, 9, 0, 0, 0, 5, 1,\n",
            "        6, 2, 2, 3, 1, 4, 1, 5, 4, 6, 9, 7, 2, 8, 7, 9, 2, 0, 5, 1, 4, 2, 8, 3,\n",
            "        8, 4, 1, 5, 4, 6, 0, 7, 9, 8, 9, 9, 8, 0, 4, 1, 2, 2, 2, 3, 2, 4, 7, 5,\n",
            "        9, 6, 5, 7, 7, 8, 8, 9, 2, 4, 7, 3, 2, 0, 8, 6, 8, 6, 9, 6, 8, 9, 4, 0,\n",
            "        8, 0, 6, 1, 9, 8, 7, 5, 3, 2, 9, 9, 8, 5, 8, 6, 3, 8, 6, 8, 9, 1, 8, 3,\n",
            "        5, 8, 0, 5, 8, 7, 2, 5, 0, 8, 2, 1, 1, 0, 9, 1, 8, 6, 9, 0, 4, 3, 9, 8,\n",
            "        8, 9, 6, 2, 8, 4, 2, 5, 8, 2, 6, 7, 9, 5, 9, 2, 3, 1, 6, 3, 9, 2, 2, 5,\n",
            "        6, 8, 0, 2, 9, 1, 4, 8, 7, 0, 5, 4, 9, 6, 2, 8, 5, 1, 4, 1, 9, 5, 1, 7,\n",
            "        3, 6, 4, 3, 2, 5, 6, 4, 2, 0, 4, 4, 6, 7, 2, 4, 3, 3, 8, 0, 0, 3, 2, 2,\n",
            "        8, 8, 2, 3, 7, 0, 1, 1, 0, 2, 3, 3, 8, 2, 3, 5, 7, 6, 4, 7, 2, 8, 5, 8,\n",
            "        7, 0, 3, 1, 2, 2, 4, 3, 8, 2, 7, 5, 4, 6, 0, 0, 2, 1, 9, 2, 7, 3, 6, 7,\n",
            "        5, 8, 9, 5, 6, 2, 2, 1, 1, 5, 8, 8, 5, 8, 2, 0, 2, 8, 9, 8, 9, 2, 2, 8,\n",
            "        7, 4, 2, 6, 8, 1, 7, 0, 6, 4, 2, 8, 7, 0, 7, 1, 0, 3, 7, 6, 5, 7, 6, 1,\n",
            "        5, 1, 7, 8, 8, 0, 6, 2, 9, 2, 5, 2, 8, 6, 8, 3, 8, 6, 1, 0, 9, 7, 1, 3,\n",
            "        0, 5, 6, 2, 4, 2, 4, 4, 3, 1, 7, 9, 6, 0, 3, 6])\n",
            "tensor([3, 9, 9, 7, 8, 3, 9, 3, 9, 2, 3, 8, 3, 6, 7, 2, 3, 8, 8, 8, 2, 9, 8, 7,\n",
            "        2, 3, 9, 3, 2, 2, 8, 2, 5, 7, 0, 6, 6, 0, 2, 4, 7, 8, 9, 8, 3, 8, 8, 8,\n",
            "        8, 3, 5, 0, 2, 9, 8, 8, 0, 8, 8, 2, 9, 8, 6, 2, 9, 8, 6, 7, 6, 0, 6, 2,\n",
            "        7, 8, 3, 3, 2, 7, 2, 2, 8, 9, 2, 6, 2, 8, 3, 8, 9, 4, 6, 2, 2, 6, 8, 0,\n",
            "        2, 8, 5, 7, 8, 2, 7, 2, 9, 6, 8, 3, 0, 9, 8, 3, 9, 2, 0, 4, 4, 3, 9, 0,\n",
            "        7, 0, 2, 2, 2, 8, 6, 8, 4, 8, 3, 4, 1, 8, 4, 3, 3, 9, 8, 4, 2, 2, 9, 3,\n",
            "        8, 8, 8, 6, 2, 3, 4, 5, 2, 8, 8, 6, 9, 3, 8, 2, 8, 2, 8, 8, 9, 6, 4, 8,\n",
            "        2, 0, 8, 3, 7, 8, 2, 6, 8, 7, 3, 3, 1, 3, 8, 8, 7, 2, 8, 7, 8, 2, 5, 8,\n",
            "        9, 2, 9, 5, 9, 8, 3, 3, 8, 7, 8, 3, 4, 7, 0, 9, 8, 0, 9, 1, 1, 2, 7, 3,\n",
            "        0, 2, 6, 6, 2, 6, 9, 7, 3, 8, 8, 8, 5, 0, 2, 2, 6, 2, 6, 3, 8, 2, 8, 5,\n",
            "        3, 0, 5, 7, 5, 8, 5, 8, 4, 0, 2, 1, 2, 2, 8, 3, 8, 4, 2, 5, 8, 5, 2, 7,\n",
            "        8, 8, 8, 8, 3, 2, 7, 2, 9, 3, 2, 2, 7, 2, 6, 3, 4, 5, 5, 9, 5, 8, 8, 6,\n",
            "        2, 2, 2, 3, 9, 0, 9, 8, 9, 2, 3, 8, 8, 2, 5, 0, 8, 2, 5, 2, 8, 2, 7, 6,\n",
            "        8, 8, 2, 1, 5, 2, 7, 8, 9, 3, 8, 0, 9, 8, 6, 3, 6, 2, 3, 4, 8, 8, 8, 6,\n",
            "        2, 2, 9, 2, 9, 3, 7, 8, 8, 2, 3, 2, 8, 7, 8, 2, 8, 2, 9, 2, 3, 2, 9, 0,\n",
            "        2, 3, 8, 2, 8, 3, 2, 0, 8, 4, 1, 7, 9, 2, 4, 2, 9, 2, 2, 2, 4, 2, 8, 4,\n",
            "        3, 2, 5, 2, 8, 4, 8, 4, 5, 8, 6, 6, 6, 1, 8, 0, 2, 4, 2, 8, 3, 3, 4, 6,\n",
            "        8, 4, 2, 2, 9, 2, 4, 8, 2, 6, 5, 8, 9, 6, 7, 8, 8, 8, 7, 9, 8, 9, 6, 6,\n",
            "        2, 3, 8, 9, 3, 3, 4, 2, 6, 8, 9, 2, 1, 8, 9, 2, 2, 6, 6, 9, 3, 9, 9, 7,\n",
            "        6, 8, 0, 3, 8, 4, 9, 8, 9, 6, 7, 7, 2, 8, 6, 8, 1, 9, 5, 7, 2, 8, 3, 3,\n",
            "        8, 8, 4, 2, 2, 8, 3, 7, 8, 9, 3, 7, 8, 8, 0, 3, 6, 2, 8, 8, 2, 8, 8, 6,\n",
            "        5, 2, 8, 7, 7, 3, 7, 2, 5, 8, 3, 2, 8, 5, 2, 9, 9, 2, 7, 8, 6, 4, 0, 9,\n",
            "        8, 8, 3, 8, 8, 7, 6, 2, 4, 8, 7, 8, 5, 8, 2, 8, 5, 8, 3, 4, 2, 5, 4, 3,\n",
            "        3, 7, 5, 8, 4, 3, 2, 8, 2, 5, 7, 3, 9, 8, 8, 2, 2, 4, 2, 8, 2, 7, 3, 8,\n",
            "        9, 2, 8, 8, 8, 3, 6, 8, 3, 8, 2, 7, 7, 4, 9, 0, 8, 7, 8, 4, 6, 8, 2, 2,\n",
            "        9, 8, 3, 0, 7, 8, 9, 0, 9, 7, 9, 2, 9, 3, 6, 8, 9, 2, 9, 2, 5, 8, 5, 8,\n",
            "        2, 9, 8, 8, 8, 5, 8, 8, 7, 3, 2, 2, 2, 2, 9, 9, 2, 4, 3, 5, 1, 3, 8, 8,\n",
            "        7, 6, 3, 2, 8, 5, 7, 8, 0, 7, 8, 3, 8, 8, 0, 2, 2, 8, 9, 6, 6, 9, 5, 7,\n",
            "        8, 2, 7, 5, 2, 2, 7, 6, 2, 6, 9, 2, 2, 2, 9, 4, 7, 9, 6, 1, 4, 2, 8, 3,\n",
            "        8, 8, 2, 5, 8, 6, 6, 2, 8, 2, 9, 4, 8, 9, 4, 7, 2, 3, 3, 3, 8, 4, 7, 5,\n",
            "        9, 5, 5, 2, 7, 2, 8, 4, 2, 4, 7, 3, 1, 0, 8, 5, 8, 6, 9, 6, 6, 4, 2, 0,\n",
            "        8, 0, 6, 7, 9, 8, 9, 5, 3, 2, 9, 4, 8, 6, 8, 6, 5, 8, 6, 8, 9, 2, 8, 3,\n",
            "        6, 8, 0, 5, 8, 2, 2, 3, 0, 8, 2, 1, 1, 0, 8, 1, 8, 6, 9, 9, 4, 3, 9, 8,\n",
            "        5, 8, 8, 2, 8, 8, 2, 5, 8, 2, 6, 2, 9, 5, 8, 2, 3, 1, 6, 3, 4, 3, 2, 5,\n",
            "        6, 2, 2, 2, 9, 1, 4, 8, 9, 9, 5, 4, 9, 6, 2, 8, 9, 1, 2, 2, 9, 6, 7, 2,\n",
            "        3, 6, 1, 8, 2, 6, 6, 4, 2, 6, 6, 8, 5, 2, 8, 4, 9, 3, 8, 9, 9, 5, 2, 2,\n",
            "        8, 8, 2, 3, 2, 9, 9, 7, 6, 2, 3, 3, 9, 2, 3, 8, 2, 6, 2, 3, 2, 2, 8, 8,\n",
            "        9, 2, 5, 1, 2, 7, 8, 5, 8, 2, 7, 6, 4, 6, 0, 9, 2, 1, 9, 3, 2, 3, 0, 2,\n",
            "        8, 8, 9, 8, 6, 3, 2, 1, 2, 8, 8, 8, 5, 8, 2, 9, 2, 8, 8, 8, 4, 2, 2, 5,\n",
            "        1, 2, 8, 8, 8, 2, 7, 2, 8, 2, 3, 8, 7, 9, 7, 7, 0, 3, 3, 5, 5, 7, 8, 1,\n",
            "        8, 7, 7, 8, 8, 0, 6, 2, 9, 2, 6, 2, 8, 6, 8, 3, 8, 5, 9, 0, 8, 3, 3, 3,\n",
            "        6, 8, 6, 2, 4, 8, 4, 9, 3, 7, 2, 9, 8, 9, 5, 6])\n",
            "tensor([3, 9, 9, 7, 8, 3, 9, 3, 9, 2, 9, 8, 5, 8, 7, 2, 3, 2, 8, 8, 2, 9, 8, 7,\n",
            "        2, 3, 9, 3, 2, 2, 8, 2, 5, 7, 2, 6, 8, 6, 2, 4, 7, 8, 9, 8, 5, 8, 8, 8,\n",
            "        8, 5, 5, 9, 2, 9, 8, 8, 0, 8, 8, 2, 9, 8, 8, 2, 9, 8, 8, 7, 6, 5, 6, 2,\n",
            "        7, 8, 8, 3, 0, 7, 2, 2, 8, 9, 5, 8, 2, 3, 5, 8, 9, 4, 8, 2, 2, 8, 9, 9,\n",
            "        2, 8, 5, 7, 8, 2, 8, 2, 9, 6, 8, 5, 6, 9, 8, 8, 9, 2, 0, 2, 8, 3, 9, 2,\n",
            "        7, 6, 2, 2, 2, 5, 8, 8, 4, 8, 3, 4, 1, 8, 4, 5, 5, 9, 8, 4, 2, 2, 9, 3,\n",
            "        8, 8, 8, 5, 2, 5, 9, 5, 2, 8, 8, 5, 9, 8, 8, 2, 8, 1, 8, 8, 9, 5, 2, 8,\n",
            "        2, 9, 8, 3, 7, 8, 2, 6, 8, 7, 3, 5, 1, 5, 8, 8, 7, 2, 8, 7, 8, 0, 5, 8,\n",
            "        9, 2, 9, 5, 9, 2, 2, 3, 8, 7, 8, 3, 4, 2, 0, 9, 8, 9, 9, 8, 1, 2, 2, 5,\n",
            "        8, 2, 8, 6, 2, 8, 9, 2, 3, 2, 8, 8, 5, 6, 2, 2, 6, 8, 6, 5, 8, 2, 8, 3,\n",
            "        3, 0, 5, 2, 9, 8, 5, 8, 4, 6, 2, 7, 2, 3, 8, 5, 8, 2, 2, 8, 8, 5, 8, 2,\n",
            "        8, 8, 8, 8, 3, 2, 2, 2, 9, 3, 2, 2, 7, 2, 6, 5, 8, 5, 5, 9, 8, 8, 8, 6,\n",
            "        2, 2, 2, 5, 9, 6, 9, 2, 9, 2, 5, 8, 8, 2, 5, 9, 8, 2, 6, 2, 8, 2, 2, 5,\n",
            "        5, 8, 2, 7, 8, 8, 7, 8, 9, 5, 8, 0, 9, 8, 6, 5, 6, 2, 5, 4, 8, 8, 8, 6,\n",
            "        2, 2, 9, 8, 9, 8, 7, 2, 8, 2, 3, 2, 2, 2, 8, 2, 8, 2, 9, 2, 9, 2, 9, 2,\n",
            "        2, 3, 8, 2, 8, 3, 2, 0, 6, 2, 8, 2, 9, 2, 4, 8, 9, 2, 2, 2, 9, 8, 8, 4,\n",
            "        3, 8, 5, 2, 8, 4, 8, 4, 5, 8, 6, 5, 6, 2, 8, 6, 0, 4, 2, 8, 3, 8, 4, 6,\n",
            "        8, 4, 1, 2, 9, 2, 9, 8, 2, 6, 5, 8, 9, 5, 2, 8, 8, 8, 9, 9, 8, 9, 8, 5,\n",
            "        2, 5, 8, 9, 3, 3, 4, 2, 6, 8, 9, 2, 3, 2, 9, 2, 8, 8, 6, 9, 8, 9, 9, 7,\n",
            "        6, 8, 0, 8, 8, 9, 9, 8, 9, 8, 7, 2, 2, 8, 6, 8, 1, 2, 9, 7, 8, 8, 3, 5,\n",
            "        8, 8, 4, 2, 2, 8, 5, 7, 8, 9, 5, 7, 8, 8, 0, 8, 6, 2, 8, 8, 2, 8, 8, 6,\n",
            "        5, 2, 8, 7, 7, 3, 7, 2, 8, 8, 3, 8, 8, 5, 2, 9, 4, 2, 2, 8, 6, 4, 9, 9,\n",
            "        6, 8, 3, 8, 8, 7, 8, 2, 4, 8, 7, 8, 5, 8, 2, 8, 9, 8, 9, 4, 8, 5, 4, 3,\n",
            "        3, 7, 8, 8, 4, 3, 7, 8, 2, 5, 2, 3, 9, 8, 8, 2, 3, 4, 7, 8, 2, 7, 5, 2,\n",
            "        9, 2, 8, 8, 8, 8, 6, 8, 3, 8, 2, 7, 7, 4, 9, 0, 8, 7, 9, 4, 6, 8, 2, 2,\n",
            "        8, 8, 3, 2, 7, 8, 9, 0, 9, 7, 9, 2, 9, 5, 6, 8, 9, 2, 9, 2, 5, 8, 8, 8,\n",
            "        2, 9, 8, 8, 5, 5, 8, 8, 2, 3, 2, 2, 2, 2, 9, 9, 2, 4, 3, 5, 1, 3, 8, 8,\n",
            "        7, 5, 3, 2, 8, 3, 1, 8, 9, 7, 8, 7, 8, 8, 6, 2, 0, 8, 9, 6, 6, 9, 5, 7,\n",
            "        8, 2, 7, 5, 2, 2, 7, 6, 2, 5, 9, 2, 2, 2, 9, 4, 7, 9, 6, 7, 2, 3, 8, 5,\n",
            "        8, 8, 2, 8, 8, 5, 6, 2, 8, 2, 9, 4, 8, 9, 4, 7, 2, 3, 3, 5, 8, 4, 7, 5,\n",
            "        9, 5, 5, 2, 9, 2, 8, 4, 2, 9, 7, 5, 1, 9, 8, 5, 3, 5, 9, 8, 6, 4, 2, 9,\n",
            "        8, 9, 6, 7, 9, 8, 9, 5, 5, 2, 9, 4, 8, 6, 6, 8, 5, 8, 0, 8, 8, 2, 8, 5,\n",
            "        6, 8, 0, 6, 8, 2, 2, 3, 6, 8, 2, 7, 7, 9, 8, 2, 8, 5, 9, 9, 4, 5, 9, 2,\n",
            "        5, 8, 8, 2, 8, 8, 2, 8, 8, 2, 5, 2, 9, 8, 8, 8, 9, 2, 8, 8, 4, 3, 2, 8,\n",
            "        5, 2, 2, 2, 9, 7, 4, 8, 9, 9, 5, 4, 9, 8, 3, 8, 9, 7, 2, 2, 9, 6, 7, 2,\n",
            "        5, 5, 3, 8, 8, 6, 8, 2, 2, 6, 6, 8, 5, 2, 8, 8, 9, 5, 8, 9, 9, 5, 3, 2,\n",
            "        8, 2, 3, 8, 2, 9, 9, 7, 6, 2, 5, 5, 9, 2, 5, 8, 2, 8, 2, 3, 2, 2, 8, 8,\n",
            "        9, 2, 5, 7, 2, 7, 8, 5, 8, 2, 3, 6, 4, 8, 0, 9, 2, 7, 9, 3, 2, 5, 0, 2,\n",
            "        8, 9, 9, 8, 6, 3, 2, 7, 2, 8, 8, 2, 3, 8, 2, 9, 2, 8, 8, 8, 4, 2, 2, 5,\n",
            "        1, 2, 8, 8, 8, 2, 3, 2, 8, 2, 3, 8, 2, 9, 3, 7, 9, 8, 3, 5, 6, 7, 8, 2,\n",
            "        8, 7, 2, 2, 8, 2, 6, 2, 9, 2, 6, 2, 8, 5, 8, 5, 8, 5, 9, 9, 8, 3, 3, 3,\n",
            "        6, 8, 6, 2, 9, 8, 9, 9, 5, 7, 2, 9, 8, 2, 5, 5])\n",
            "tensor([3, 9, 9, 7, 8, 3, 9, 7, 9, 2, 9, 8, 5, 8, 7, 2, 3, 2, 8, 8, 2, 9, 8, 7,\n",
            "        2, 3, 9, 5, 3, 2, 8, 2, 5, 7, 2, 6, 8, 6, 2, 4, 7, 8, 9, 8, 5, 8, 8, 8,\n",
            "        8, 5, 5, 9, 2, 9, 8, 8, 6, 8, 8, 2, 9, 8, 8, 2, 9, 8, 8, 7, 6, 5, 6, 2,\n",
            "        7, 8, 8, 3, 0, 7, 2, 2, 8, 9, 5, 8, 2, 3, 5, 8, 9, 9, 8, 2, 2, 8, 9, 9,\n",
            "        2, 8, 5, 7, 8, 2, 8, 2, 9, 6, 8, 5, 8, 9, 8, 8, 9, 2, 9, 2, 8, 3, 9, 2,\n",
            "        7, 6, 2, 2, 2, 5, 8, 8, 4, 8, 5, 9, 1, 8, 4, 5, 5, 9, 8, 9, 2, 2, 9, 3,\n",
            "        9, 8, 5, 4, 2, 5, 9, 5, 2, 8, 8, 8, 9, 8, 8, 8, 6, 1, 8, 8, 9, 8, 2, 8,\n",
            "        2, 9, 8, 3, 7, 8, 2, 6, 8, 7, 3, 5, 1, 5, 8, 8, 7, 2, 8, 7, 8, 0, 5, 8,\n",
            "        9, 2, 9, 5, 9, 2, 2, 3, 8, 7, 5, 5, 4, 2, 2, 9, 8, 9, 9, 8, 1, 8, 3, 5,\n",
            "        8, 2, 8, 6, 8, 8, 9, 2, 3, 2, 8, 8, 5, 6, 2, 2, 6, 8, 6, 5, 8, 2, 8, 3,\n",
            "        3, 0, 5, 2, 8, 2, 5, 8, 4, 6, 2, 7, 2, 3, 8, 5, 8, 2, 2, 8, 8, 5, 8, 2,\n",
            "        8, 9, 8, 8, 3, 2, 2, 2, 9, 3, 2, 2, 7, 3, 6, 5, 8, 5, 5, 9, 8, 8, 8, 6,\n",
            "        2, 2, 2, 5, 9, 6, 9, 2, 9, 2, 5, 8, 6, 2, 5, 9, 8, 2, 6, 2, 8, 2, 2, 5,\n",
            "        5, 8, 2, 7, 8, 8, 7, 8, 9, 5, 8, 0, 9, 8, 6, 5, 6, 2, 5, 4, 8, 8, 8, 6,\n",
            "        2, 2, 9, 8, 9, 8, 7, 2, 8, 2, 3, 8, 2, 2, 8, 2, 5, 2, 9, 2, 9, 2, 9, 2,\n",
            "        2, 5, 8, 2, 8, 3, 2, 0, 6, 2, 8, 2, 9, 2, 4, 8, 9, 2, 2, 2, 9, 8, 8, 4,\n",
            "        3, 8, 5, 2, 8, 4, 8, 4, 5, 2, 6, 5, 6, 2, 8, 6, 0, 4, 2, 8, 3, 8, 4, 6,\n",
            "        8, 4, 1, 2, 9, 2, 9, 2, 2, 6, 5, 8, 9, 5, 8, 8, 8, 8, 9, 9, 8, 9, 8, 8,\n",
            "        8, 5, 8, 9, 3, 3, 9, 2, 6, 8, 9, 2, 3, 2, 9, 2, 8, 8, 6, 9, 8, 9, 9, 7,\n",
            "        6, 8, 6, 8, 8, 9, 9, 8, 9, 8, 7, 2, 2, 2, 6, 8, 1, 2, 9, 7, 8, 8, 3, 5,\n",
            "        8, 8, 4, 2, 2, 5, 5, 7, 8, 9, 5, 7, 8, 8, 0, 8, 6, 2, 8, 8, 2, 8, 8, 6,\n",
            "        8, 2, 8, 7, 7, 8, 7, 2, 8, 8, 3, 8, 8, 5, 2, 9, 4, 2, 2, 8, 6, 4, 9, 9,\n",
            "        6, 8, 3, 8, 8, 7, 8, 2, 4, 8, 7, 8, 5, 8, 2, 8, 9, 2, 9, 4, 8, 5, 4, 3,\n",
            "        3, 7, 8, 8, 4, 5, 7, 3, 2, 5, 2, 3, 9, 8, 8, 2, 3, 8, 7, 8, 2, 7, 5, 2,\n",
            "        9, 2, 8, 8, 8, 8, 6, 8, 3, 8, 2, 7, 7, 4, 9, 0, 8, 7, 9, 4, 6, 8, 2, 2,\n",
            "        8, 8, 3, 2, 7, 8, 9, 0, 9, 7, 9, 2, 9, 5, 6, 8, 9, 2, 9, 8, 9, 8, 8, 8,\n",
            "        2, 9, 8, 5, 5, 5, 8, 8, 2, 3, 2, 2, 2, 2, 9, 9, 2, 4, 3, 5, 1, 5, 8, 8,\n",
            "        7, 5, 3, 2, 8, 3, 1, 8, 9, 7, 8, 7, 8, 8, 6, 2, 0, 8, 9, 6, 6, 9, 5, 7,\n",
            "        8, 8, 7, 5, 2, 2, 7, 6, 2, 5, 9, 2, 8, 2, 9, 4, 7, 9, 6, 7, 2, 3, 8, 5,\n",
            "        8, 8, 2, 8, 8, 5, 6, 2, 8, 2, 9, 4, 8, 9, 4, 7, 2, 3, 3, 5, 8, 9, 7, 9,\n",
            "        9, 5, 9, 2, 9, 2, 6, 4, 2, 9, 4, 5, 1, 9, 8, 5, 3, 5, 9, 8, 6, 4, 2, 9,\n",
            "        8, 2, 6, 7, 9, 8, 9, 8, 5, 2, 9, 4, 8, 6, 6, 8, 5, 2, 0, 8, 8, 2, 8, 5,\n",
            "        6, 8, 0, 6, 8, 2, 8, 3, 6, 8, 2, 7, 7, 9, 8, 2, 3, 5, 9, 9, 4, 5, 9, 2,\n",
            "        5, 8, 8, 2, 9, 8, 2, 8, 8, 2, 5, 2, 9, 8, 8, 8, 9, 2, 8, 8, 4, 3, 2, 8,\n",
            "        5, 2, 2, 2, 9, 7, 4, 2, 9, 9, 5, 4, 9, 8, 3, 8, 9, 7, 2, 2, 9, 6, 7, 2,\n",
            "        5, 5, 3, 8, 8, 6, 8, 2, 2, 6, 6, 8, 5, 2, 8, 8, 9, 5, 3, 9, 9, 5, 3, 8,\n",
            "        8, 2, 3, 8, 2, 9, 9, 7, 6, 9, 5, 5, 9, 2, 5, 8, 2, 8, 2, 3, 2, 2, 8, 8,\n",
            "        9, 2, 5, 7, 2, 7, 8, 5, 8, 2, 3, 6, 4, 8, 0, 9, 2, 7, 9, 3, 2, 5, 0, 2,\n",
            "        8, 9, 9, 8, 6, 3, 2, 7, 2, 8, 8, 2, 3, 8, 2, 9, 2, 8, 8, 8, 4, 2, 2, 5,\n",
            "        1, 2, 8, 8, 8, 2, 3, 2, 8, 2, 3, 8, 2, 9, 3, 7, 9, 8, 3, 5, 6, 7, 8, 2,\n",
            "        8, 7, 2, 2, 8, 2, 6, 2, 9, 2, 6, 2, 8, 5, 8, 5, 8, 5, 9, 2, 8, 3, 3, 5,\n",
            "        6, 8, 8, 2, 9, 8, 9, 9, 5, 7, 2, 9, 8, 2, 5, 5])\n",
            "tensor([3, 9, 9, 7, 8, 3, 9, 7, 9, 2, 9, 8, 5, 8, 7, 2, 3, 2, 8, 8, 2, 9, 8, 7,\n",
            "        2, 3, 9, 5, 3, 2, 8, 2, 5, 7, 2, 6, 8, 6, 2, 4, 7, 3, 9, 8, 5, 8, 3, 8,\n",
            "        8, 5, 5, 9, 2, 9, 8, 3, 6, 8, 8, 2, 9, 8, 8, 2, 9, 8, 8, 7, 6, 5, 6, 2,\n",
            "        7, 8, 8, 3, 0, 7, 2, 2, 8, 9, 5, 8, 2, 3, 5, 8, 9, 9, 8, 2, 2, 8, 9, 9,\n",
            "        2, 8, 5, 7, 8, 2, 8, 2, 9, 6, 8, 5, 8, 9, 8, 8, 9, 2, 9, 2, 8, 3, 9, 2,\n",
            "        7, 6, 2, 2, 2, 5, 8, 8, 4, 8, 5, 9, 1, 8, 4, 5, 5, 9, 8, 9, 2, 2, 9, 3,\n",
            "        9, 8, 5, 4, 2, 5, 9, 5, 2, 8, 8, 8, 9, 8, 8, 8, 6, 1, 8, 8, 9, 8, 2, 8,\n",
            "        2, 9, 8, 3, 7, 8, 2, 6, 8, 7, 3, 5, 1, 5, 8, 8, 7, 2, 8, 7, 2, 0, 5, 8,\n",
            "        9, 2, 9, 5, 9, 2, 2, 3, 8, 7, 5, 5, 4, 2, 2, 9, 8, 9, 9, 8, 1, 8, 3, 5,\n",
            "        8, 2, 8, 6, 8, 8, 9, 2, 3, 2, 8, 8, 5, 6, 2, 2, 6, 8, 6, 5, 8, 2, 8, 3,\n",
            "        3, 0, 5, 2, 8, 2, 5, 8, 4, 6, 2, 7, 0, 3, 8, 5, 8, 2, 2, 8, 8, 5, 8, 2,\n",
            "        8, 9, 8, 8, 3, 2, 2, 2, 9, 3, 2, 2, 7, 3, 6, 5, 8, 5, 5, 9, 8, 8, 8, 6,\n",
            "        2, 2, 2, 5, 9, 6, 9, 2, 9, 2, 5, 8, 6, 2, 5, 9, 8, 2, 6, 2, 8, 2, 2, 5,\n",
            "        5, 8, 2, 7, 8, 8, 7, 8, 9, 5, 8, 0, 9, 8, 6, 5, 6, 2, 5, 4, 8, 8, 8, 6,\n",
            "        2, 2, 9, 8, 9, 8, 7, 2, 8, 2, 3, 8, 2, 2, 8, 2, 5, 2, 9, 2, 9, 2, 9, 2,\n",
            "        2, 5, 8, 2, 8, 3, 2, 0, 6, 2, 8, 2, 9, 2, 4, 8, 9, 2, 3, 2, 9, 8, 8, 4,\n",
            "        3, 8, 5, 2, 8, 4, 8, 4, 5, 2, 6, 5, 6, 2, 8, 6, 0, 4, 2, 8, 3, 8, 4, 6,\n",
            "        8, 4, 1, 2, 9, 2, 9, 2, 2, 6, 5, 8, 9, 5, 8, 8, 8, 8, 9, 9, 8, 9, 8, 8,\n",
            "        8, 5, 8, 9, 3, 3, 9, 2, 6, 8, 9, 2, 3, 2, 9, 2, 8, 8, 6, 9, 8, 9, 9, 7,\n",
            "        6, 8, 6, 8, 8, 9, 9, 8, 9, 8, 7, 2, 2, 2, 6, 8, 1, 2, 9, 7, 8, 8, 3, 5,\n",
            "        8, 8, 4, 2, 2, 5, 5, 7, 8, 9, 5, 7, 8, 8, 0, 8, 6, 2, 8, 5, 2, 8, 8, 6,\n",
            "        8, 2, 8, 7, 7, 8, 7, 2, 8, 8, 3, 8, 8, 5, 2, 9, 4, 2, 2, 8, 6, 4, 9, 9,\n",
            "        6, 8, 3, 8, 5, 7, 8, 2, 4, 8, 7, 8, 5, 8, 2, 8, 9, 2, 9, 4, 8, 5, 4, 3,\n",
            "        3, 7, 8, 8, 4, 5, 7, 3, 2, 5, 2, 3, 9, 8, 8, 2, 3, 8, 7, 2, 2, 7, 5, 2,\n",
            "        9, 2, 8, 8, 8, 8, 6, 8, 3, 8, 2, 7, 7, 4, 9, 0, 8, 7, 9, 4, 6, 8, 2, 2,\n",
            "        8, 8, 3, 2, 7, 8, 9, 0, 9, 7, 9, 2, 9, 5, 6, 8, 9, 2, 9, 8, 9, 8, 8, 8,\n",
            "        2, 9, 8, 5, 5, 5, 8, 8, 2, 3, 2, 2, 2, 2, 9, 9, 2, 4, 3, 5, 1, 5, 8, 8,\n",
            "        7, 5, 3, 2, 8, 3, 1, 8, 9, 7, 8, 7, 8, 8, 6, 2, 0, 8, 9, 6, 6, 9, 5, 7,\n",
            "        8, 8, 7, 5, 2, 2, 7, 6, 2, 5, 9, 2, 8, 2, 9, 4, 7, 9, 6, 7, 2, 3, 8, 5,\n",
            "        8, 8, 2, 8, 8, 5, 6, 2, 8, 2, 9, 4, 6, 9, 4, 7, 2, 3, 3, 5, 8, 9, 7, 9,\n",
            "        9, 5, 9, 2, 9, 2, 6, 4, 2, 9, 4, 5, 1, 9, 5, 5, 3, 5, 9, 8, 6, 4, 2, 9,\n",
            "        8, 2, 6, 7, 9, 8, 9, 8, 5, 2, 9, 4, 8, 6, 6, 8, 5, 2, 0, 8, 8, 2, 9, 5,\n",
            "        6, 5, 0, 6, 8, 2, 8, 3, 6, 8, 2, 7, 7, 9, 8, 2, 3, 5, 9, 9, 4, 5, 9, 2,\n",
            "        5, 8, 8, 2, 9, 8, 2, 8, 8, 4, 5, 2, 9, 8, 8, 8, 9, 2, 8, 8, 4, 3, 2, 8,\n",
            "        5, 2, 2, 2, 9, 7, 4, 2, 9, 9, 5, 4, 9, 8, 3, 8, 9, 7, 2, 2, 9, 6, 7, 2,\n",
            "        5, 5, 3, 8, 8, 6, 8, 2, 2, 6, 6, 8, 5, 2, 8, 8, 9, 5, 3, 9, 9, 5, 3, 8,\n",
            "        8, 2, 3, 8, 2, 9, 9, 7, 6, 9, 5, 5, 9, 2, 5, 8, 2, 8, 2, 3, 2, 2, 8, 8,\n",
            "        9, 2, 5, 7, 2, 7, 8, 5, 8, 2, 3, 6, 4, 8, 0, 9, 2, 7, 9, 3, 2, 5, 0, 2,\n",
            "        8, 9, 9, 8, 6, 3, 2, 7, 2, 8, 8, 2, 3, 8, 2, 9, 2, 8, 8, 8, 4, 2, 2, 5,\n",
            "        1, 2, 8, 8, 8, 2, 3, 2, 8, 2, 3, 8, 2, 9, 3, 7, 9, 8, 3, 5, 6, 7, 8, 2,\n",
            "        8, 7, 2, 2, 8, 2, 6, 2, 9, 2, 6, 2, 3, 5, 8, 5, 8, 5, 9, 2, 8, 3, 3, 5,\n",
            "        6, 8, 8, 2, 9, 8, 9, 9, 5, 7, 2, 9, 8, 2, 5, 5])\n",
            "tensor([3, 9, 9, 7, 8, 3, 9, 7, 9, 2, 9, 8, 5, 8, 7, 2, 3, 2, 8, 8, 2, 9, 8, 7,\n",
            "        2, 3, 9, 5, 3, 2, 8, 2, 5, 7, 2, 6, 8, 6, 2, 4, 7, 3, 9, 8, 5, 8, 3, 8,\n",
            "        8, 5, 5, 9, 2, 9, 8, 3, 6, 8, 8, 2, 9, 8, 8, 2, 9, 8, 8, 7, 6, 5, 6, 2,\n",
            "        7, 8, 8, 3, 0, 7, 2, 2, 8, 9, 5, 8, 2, 3, 5, 8, 9, 9, 8, 2, 2, 8, 9, 9,\n",
            "        2, 3, 5, 7, 8, 2, 8, 2, 9, 6, 8, 5, 8, 9, 8, 8, 9, 2, 9, 2, 8, 3, 9, 2,\n",
            "        7, 6, 8, 2, 2, 5, 8, 8, 4, 8, 5, 9, 1, 8, 4, 5, 5, 9, 8, 9, 2, 2, 9, 3,\n",
            "        9, 8, 5, 4, 2, 5, 9, 5, 2, 8, 8, 8, 9, 8, 8, 8, 6, 1, 8, 8, 9, 8, 2, 8,\n",
            "        2, 9, 8, 3, 7, 8, 2, 6, 8, 7, 3, 5, 1, 5, 8, 8, 7, 2, 8, 7, 2, 0, 5, 8,\n",
            "        9, 2, 9, 5, 9, 2, 2, 3, 8, 7, 5, 5, 4, 2, 2, 9, 8, 9, 9, 8, 1, 8, 3, 5,\n",
            "        8, 2, 8, 6, 8, 8, 9, 2, 3, 2, 8, 8, 5, 6, 2, 2, 6, 8, 6, 5, 8, 2, 8, 3,\n",
            "        3, 0, 5, 2, 8, 2, 5, 8, 4, 6, 2, 7, 8, 3, 8, 5, 8, 2, 2, 8, 8, 5, 8, 2,\n",
            "        8, 9, 8, 8, 3, 2, 2, 2, 9, 3, 2, 2, 7, 3, 6, 5, 8, 5, 5, 9, 8, 8, 8, 6,\n",
            "        2, 2, 2, 5, 9, 6, 9, 2, 9, 2, 5, 8, 6, 2, 5, 9, 8, 2, 6, 2, 8, 2, 2, 5,\n",
            "        5, 8, 2, 7, 8, 8, 7, 8, 9, 5, 8, 0, 9, 8, 6, 5, 6, 2, 5, 4, 8, 5, 8, 6,\n",
            "        2, 2, 9, 8, 9, 8, 7, 2, 8, 2, 3, 8, 2, 2, 8, 2, 5, 2, 9, 2, 9, 2, 9, 2,\n",
            "        0, 5, 8, 2, 8, 3, 2, 0, 6, 2, 8, 2, 9, 2, 4, 8, 9, 2, 3, 2, 9, 8, 8, 4,\n",
            "        3, 8, 5, 2, 8, 4, 8, 4, 5, 2, 6, 5, 6, 2, 8, 6, 0, 4, 2, 8, 3, 8, 4, 6,\n",
            "        8, 4, 1, 2, 9, 2, 9, 2, 2, 6, 5, 8, 9, 5, 8, 8, 8, 8, 9, 9, 8, 9, 8, 8,\n",
            "        8, 5, 8, 9, 3, 3, 9, 2, 6, 8, 9, 2, 3, 2, 9, 2, 8, 8, 6, 9, 8, 9, 9, 7,\n",
            "        6, 8, 6, 8, 8, 9, 9, 8, 9, 8, 7, 2, 2, 2, 6, 8, 1, 2, 9, 7, 8, 8, 3, 5,\n",
            "        8, 8, 4, 2, 2, 5, 5, 7, 8, 9, 5, 7, 8, 8, 0, 8, 6, 2, 8, 5, 2, 8, 8, 6,\n",
            "        8, 2, 8, 7, 7, 8, 7, 2, 8, 8, 3, 8, 8, 5, 2, 9, 4, 2, 2, 8, 6, 4, 9, 9,\n",
            "        6, 8, 3, 8, 5, 7, 8, 2, 4, 8, 7, 3, 5, 8, 2, 8, 9, 2, 9, 4, 8, 5, 4, 3,\n",
            "        3, 7, 8, 8, 4, 5, 7, 3, 2, 5, 2, 3, 9, 8, 8, 2, 3, 8, 7, 2, 2, 7, 5, 2,\n",
            "        9, 2, 8, 8, 8, 8, 6, 8, 3, 8, 2, 7, 7, 4, 9, 0, 8, 7, 9, 4, 6, 8, 2, 2,\n",
            "        8, 8, 3, 2, 7, 8, 9, 0, 9, 7, 9, 2, 9, 5, 6, 5, 9, 2, 9, 8, 9, 8, 8, 8,\n",
            "        2, 9, 8, 5, 5, 5, 8, 8, 2, 3, 2, 2, 2, 2, 9, 9, 2, 4, 3, 5, 1, 5, 8, 8,\n",
            "        7, 5, 3, 2, 8, 3, 1, 8, 9, 7, 8, 7, 8, 8, 6, 2, 0, 8, 9, 6, 6, 9, 5, 7,\n",
            "        8, 8, 7, 5, 2, 2, 7, 6, 2, 5, 9, 2, 8, 2, 9, 4, 7, 9, 6, 7, 2, 3, 6, 5,\n",
            "        8, 8, 2, 8, 8, 5, 6, 2, 8, 2, 9, 4, 6, 9, 4, 7, 2, 3, 3, 5, 8, 9, 7, 9,\n",
            "        9, 5, 9, 2, 9, 2, 6, 4, 2, 9, 4, 5, 1, 9, 5, 5, 3, 5, 9, 8, 6, 4, 2, 9,\n",
            "        8, 2, 6, 7, 9, 8, 9, 8, 5, 2, 9, 4, 2, 6, 6, 8, 5, 2, 0, 8, 8, 2, 9, 5,\n",
            "        6, 5, 0, 6, 8, 2, 8, 3, 6, 8, 2, 7, 7, 9, 8, 2, 3, 5, 9, 9, 4, 5, 9, 2,\n",
            "        5, 8, 8, 2, 9, 8, 2, 8, 8, 4, 5, 2, 9, 8, 8, 8, 9, 2, 8, 8, 4, 3, 7, 8,\n",
            "        5, 2, 2, 2, 9, 7, 4, 2, 9, 9, 5, 4, 9, 8, 3, 8, 9, 7, 2, 2, 9, 6, 7, 2,\n",
            "        5, 5, 3, 8, 8, 6, 8, 2, 2, 6, 6, 8, 5, 2, 8, 8, 9, 5, 3, 9, 9, 5, 3, 8,\n",
            "        8, 2, 3, 8, 2, 9, 9, 7, 6, 9, 5, 5, 9, 2, 5, 8, 2, 8, 2, 3, 2, 2, 8, 8,\n",
            "        9, 2, 5, 7, 2, 7, 8, 5, 8, 2, 3, 6, 4, 8, 0, 9, 2, 7, 9, 3, 2, 5, 0, 2,\n",
            "        8, 9, 9, 8, 6, 3, 2, 7, 2, 8, 8, 2, 3, 5, 2, 9, 2, 8, 8, 8, 4, 2, 2, 5,\n",
            "        1, 2, 8, 8, 8, 2, 3, 2, 8, 2, 3, 8, 2, 9, 3, 7, 9, 8, 3, 5, 6, 7, 8, 2,\n",
            "        8, 7, 2, 2, 8, 2, 6, 2, 9, 2, 6, 2, 3, 5, 8, 5, 5, 5, 9, 2, 8, 3, 3, 5,\n",
            "        6, 8, 8, 2, 9, 8, 9, 9, 5, 7, 2, 9, 8, 2, 5, 5])\n",
            "tensor([3, 9, 9, 7, 8, 3, 9, 7, 9, 2, 9, 8, 5, 8, 7, 2, 3, 2, 8, 8, 2, 9, 8, 7,\n",
            "        2, 3, 9, 5, 3, 2, 8, 2, 5, 7, 2, 6, 8, 6, 2, 4, 7, 3, 9, 8, 5, 8, 3, 8,\n",
            "        8, 5, 5, 9, 2, 9, 8, 3, 6, 8, 8, 2, 9, 8, 8, 2, 9, 8, 8, 7, 6, 5, 6, 2,\n",
            "        7, 8, 8, 3, 8, 7, 2, 2, 8, 9, 5, 8, 2, 3, 5, 8, 9, 9, 8, 2, 2, 8, 9, 9,\n",
            "        2, 3, 5, 7, 8, 2, 8, 2, 9, 6, 8, 5, 8, 9, 8, 8, 9, 2, 9, 2, 8, 3, 9, 2,\n",
            "        7, 6, 8, 2, 2, 5, 8, 8, 4, 8, 5, 9, 1, 8, 4, 5, 5, 9, 8, 9, 2, 2, 9, 3,\n",
            "        9, 8, 5, 4, 2, 5, 9, 5, 2, 8, 8, 8, 9, 8, 8, 8, 6, 1, 8, 8, 9, 8, 2, 8,\n",
            "        2, 9, 8, 3, 7, 8, 2, 6, 8, 7, 3, 5, 1, 5, 8, 8, 7, 2, 8, 7, 2, 0, 5, 8,\n",
            "        9, 2, 9, 5, 9, 2, 2, 3, 8, 7, 5, 5, 4, 2, 2, 9, 8, 9, 9, 8, 1, 8, 3, 5,\n",
            "        8, 2, 8, 6, 8, 8, 9, 2, 3, 2, 8, 8, 5, 6, 2, 2, 6, 8, 6, 5, 8, 2, 8, 3,\n",
            "        3, 0, 5, 2, 8, 2, 5, 8, 4, 6, 2, 7, 8, 3, 8, 5, 8, 2, 2, 8, 8, 5, 8, 2,\n",
            "        8, 9, 8, 8, 3, 2, 2, 2, 9, 3, 2, 2, 7, 3, 6, 5, 8, 5, 5, 9, 8, 8, 8, 6,\n",
            "        2, 2, 2, 5, 9, 6, 9, 2, 9, 2, 5, 8, 6, 2, 5, 9, 8, 2, 6, 2, 8, 2, 2, 5,\n",
            "        5, 8, 2, 7, 8, 8, 7, 8, 9, 5, 8, 0, 9, 8, 6, 5, 6, 2, 5, 4, 8, 5, 8, 6,\n",
            "        2, 2, 9, 8, 9, 8, 7, 2, 8, 2, 3, 8, 2, 2, 8, 2, 5, 2, 9, 2, 9, 2, 9, 2,\n",
            "        0, 5, 8, 2, 8, 3, 2, 0, 6, 2, 8, 2, 9, 2, 4, 8, 9, 2, 3, 2, 9, 8, 8, 4,\n",
            "        3, 8, 5, 2, 8, 4, 8, 4, 5, 2, 6, 5, 6, 2, 8, 6, 0, 4, 2, 8, 3, 8, 4, 6,\n",
            "        8, 4, 1, 2, 9, 2, 9, 2, 2, 6, 5, 8, 9, 5, 8, 8, 8, 8, 9, 9, 8, 9, 8, 8,\n",
            "        8, 5, 8, 9, 3, 3, 9, 2, 6, 8, 9, 2, 3, 2, 9, 2, 8, 8, 6, 9, 8, 9, 9, 7,\n",
            "        6, 8, 6, 8, 8, 9, 9, 8, 9, 8, 7, 2, 2, 2, 6, 8, 1, 2, 9, 7, 8, 8, 3, 5,\n",
            "        8, 8, 4, 2, 2, 5, 5, 7, 8, 9, 5, 7, 8, 8, 0, 8, 6, 2, 8, 5, 2, 8, 8, 6,\n",
            "        8, 2, 8, 7, 7, 8, 7, 2, 8, 8, 3, 8, 8, 5, 2, 9, 4, 2, 2, 8, 6, 4, 9, 9,\n",
            "        6, 8, 3, 8, 5, 7, 8, 2, 4, 8, 7, 3, 5, 8, 2, 8, 9, 2, 9, 4, 8, 5, 4, 3,\n",
            "        3, 7, 8, 8, 4, 5, 7, 3, 2, 5, 2, 3, 9, 8, 8, 2, 3, 8, 7, 2, 2, 7, 5, 2,\n",
            "        9, 2, 8, 8, 8, 8, 6, 8, 3, 8, 2, 7, 7, 4, 9, 0, 8, 7, 9, 4, 6, 8, 2, 2,\n",
            "        8, 8, 3, 2, 7, 8, 9, 0, 9, 7, 9, 2, 9, 5, 6, 5, 9, 2, 9, 8, 9, 8, 8, 8,\n",
            "        2, 9, 8, 5, 5, 5, 8, 8, 2, 3, 2, 2, 2, 2, 9, 9, 2, 4, 3, 5, 1, 5, 8, 8,\n",
            "        7, 5, 3, 2, 8, 3, 1, 8, 9, 7, 8, 7, 8, 8, 6, 2, 0, 8, 9, 6, 6, 9, 5, 7,\n",
            "        8, 8, 7, 5, 2, 2, 7, 6, 2, 5, 9, 2, 8, 2, 9, 4, 7, 9, 6, 7, 2, 3, 6, 5,\n",
            "        8, 8, 2, 8, 8, 5, 6, 2, 8, 2, 9, 4, 6, 9, 4, 7, 2, 3, 3, 5, 8, 9, 7, 9,\n",
            "        9, 5, 9, 2, 9, 2, 6, 4, 2, 9, 4, 5, 1, 9, 5, 5, 3, 5, 9, 8, 6, 4, 2, 9,\n",
            "        8, 2, 6, 7, 9, 8, 9, 8, 5, 2, 9, 4, 2, 6, 6, 8, 5, 2, 0, 8, 8, 2, 9, 5,\n",
            "        6, 5, 0, 6, 8, 2, 8, 3, 6, 5, 2, 7, 7, 9, 8, 2, 3, 5, 9, 9, 4, 5, 9, 2,\n",
            "        5, 8, 8, 2, 9, 8, 2, 8, 8, 4, 5, 2, 9, 8, 8, 8, 9, 2, 8, 8, 4, 3, 7, 8,\n",
            "        5, 2, 2, 2, 9, 7, 4, 2, 9, 9, 5, 4, 9, 8, 3, 2, 9, 7, 2, 2, 9, 6, 7, 2,\n",
            "        5, 5, 3, 8, 8, 6, 8, 2, 2, 6, 6, 8, 5, 2, 8, 8, 9, 5, 3, 9, 9, 5, 3, 8,\n",
            "        8, 2, 3, 8, 2, 9, 9, 7, 6, 9, 5, 5, 9, 2, 5, 8, 2, 8, 2, 3, 2, 2, 8, 8,\n",
            "        9, 2, 5, 7, 2, 7, 8, 5, 8, 2, 3, 6, 4, 8, 0, 9, 2, 7, 9, 3, 2, 5, 0, 2,\n",
            "        8, 9, 9, 8, 6, 3, 2, 7, 2, 8, 8, 2, 3, 5, 2, 9, 2, 8, 8, 8, 4, 2, 2, 5,\n",
            "        1, 2, 8, 8, 8, 2, 3, 2, 8, 2, 3, 8, 2, 9, 3, 7, 9, 8, 3, 5, 6, 7, 8, 2,\n",
            "        8, 7, 2, 2, 8, 2, 6, 2, 9, 2, 6, 2, 3, 5, 8, 5, 5, 5, 9, 2, 8, 3, 3, 5,\n",
            "        6, 8, 8, 2, 9, 8, 9, 9, 5, 7, 2, 9, 8, 2, 5, 5])\n",
            "tensor([7, 2, 1, 0, 4, 1, 4, 9, 5, 9, 0, 6, 9, 0, 1, 5, 9, 7, 3, 4, 9, 6, 6, 5,\n",
            "        4, 0, 7, 4, 0, 1, 3, 1, 3, 4, 7, 2, 7, 1, 2, 1, 1, 2, 4, 2, 3, 5, 1, 2,\n",
            "        4, 4])\n",
            "tensor([7, 2, 1, 0, 4, 1, 4, 9, 6, 9, 0, 6, 9, 0, 1, 5, 9, 7, 3, 4, 9, 6, 6, 5,\n",
            "        4, 0, 7, 4, 0, 1, 3, 1, 3, 4, 7, 2, 2, 1, 2, 1, 1, 2, 4, 2, 3, 5, 1, 2,\n",
            "        4, 4])\n",
            "tensor([7, 2, 1, 6, 9, 1, 8, 8, 6, 9, 0, 6, 9, 0, 1, 5, 9, 7, 5, 4, 9, 6, 6, 5,\n",
            "        9, 0, 2, 4, 0, 1, 3, 9, 3, 2, 7, 2, 2, 1, 2, 1, 1, 2, 9, 2, 3, 6, 1, 2,\n",
            "        8, 4])\n",
            "tensor([7, 2, 7, 6, 9, 7, 8, 8, 6, 8, 9, 8, 4, 0, 2, 6, 8, 7, 8, 2, 4, 6, 8, 9,\n",
            "        9, 0, 2, 4, 2, 9, 3, 9, 5, 2, 7, 2, 2, 7, 1, 8, 9, 2, 9, 6, 5, 6, 9, 2,\n",
            "        8, 9])\n",
            "tensor([2, 2, 7, 6, 9, 7, 8, 8, 6, 8, 9, 8, 8, 9, 2, 6, 8, 2, 8, 2, 4, 8, 8, 9,\n",
            "        9, 6, 2, 9, 2, 9, 5, 9, 5, 2, 2, 2, 2, 7, 3, 8, 9, 2, 9, 6, 5, 6, 9, 8,\n",
            "        8, 9])\n",
            "tensor([2, 0, 7, 6, 9, 7, 8, 8, 6, 8, 9, 8, 8, 9, 2, 6, 8, 2, 8, 2, 4, 8, 8, 9,\n",
            "        9, 6, 2, 9, 2, 9, 5, 9, 5, 2, 2, 8, 2, 7, 3, 8, 9, 2, 9, 6, 5, 6, 9, 8,\n",
            "        8, 9])\n"
          ]
        }
      ]
    },
    {
      "cell_type": "code",
      "source": [
        "'''\n",
        "train_loss = []\n",
        "test_loss = []\n",
        "total_train_acc = []\n",
        "total_test_acc = []\n",
        "\n",
        "# Defining loss function and optimizer\n",
        "loss_func = nn.CrossEntropyLoss()\n",
        "optimizer = torch.optim.Adam(model.parameters(), lr = 0.01)   \n",
        "\n",
        "# Train your network here\n",
        "num_epochs = 10\n",
        "for epoch in range(num_epochs):\n",
        "  total_train_loss = 0\n",
        "  total_test_loss = 0\n",
        "\n",
        "  #training the model\n",
        "  total = 0\n",
        "  model.train()\n",
        "  for idx, (image, label) in enumerate(new_train_loader):\n",
        "    #zero out optimizer\n",
        "    optimizer.zero_grad()\n",
        "    #predict\n",
        "    y_hat = model(image)\n",
        "    #calculate the loss\n",
        "    loss = loss_func(y_hat, label)\n",
        "    #loss in epoch\n",
        "    total_train_loss += loss.item()\n",
        "    loss.backward()\n",
        "    optimizer.step()\n",
        "\n",
        "    y_hat = torch.nn.functional.softmax(y_hat, dim=1)\n",
        "\n",
        "    for i, p in enumerate(y_hat):\n",
        "            if label[i] == torch.max(p.data, 0)[1]:\n",
        "                total = total + 1\n",
        "\n",
        "  train_acc = total/len(new_train_dataset)\n",
        "  total_train_acc.append(train_acc)\n",
        "\n",
        "  total_train_loss = total_train_loss/(idx + 1)\n",
        "  train_loss.append(total_train_loss)\n",
        "\n",
        "  #validating the model\n",
        "  total = 0\n",
        "  model.eval()\n",
        "  for idx, (image, label) in enumerate(new_test_loader):\n",
        "    y_hat = model(image)\n",
        "    loss = loss_func(y_hat, label)\n",
        "\n",
        "    total_test_loss += loss.item()\n",
        "\n",
        "    y_hat = torch.nn.functional.softmax(y_hat, dim=1)\n",
        "\n",
        "    for i, p in enumerate(y_hat):\n",
        "            if label[i] == torch.max(p.data, 0)[1]:\n",
        "                total = total + 1\n",
        "\n",
        "  test_acc = total/len(new_test_dataset)\n",
        "  total_test_acc.append(test_acc)\n",
        "\n",
        "  total_test_loss = total_test_loss/(idx + 1)\n",
        "  test_loss.append(total_test_loss)\n",
        "\n",
        "  print(\"Epoch %d/%d\" % (epoch+1, num_epochs))\n",
        "  print(test_acc)\n",
        "'''"
      ],
      "metadata": {
        "colab": {
          "base_uri": "https://localhost:8080/"
        },
        "id": "eBG40S6LP2G0",
        "outputId": "c1044a91-10e8-4ead-da0e-947f349ad30a"
      },
      "execution_count": 9,
      "outputs": [
        {
          "output_type": "stream",
          "name": "stdout",
          "text": [
            "Epoch 1/10\n",
            "0.9871641791044776\n",
            "Epoch 2/10\n",
            "0.9917412935323383\n",
            "Epoch 3/10\n",
            "0.9923383084577114\n",
            "Epoch 4/10\n",
            "0.9917412935323383\n",
            "Epoch 5/10\n",
            "0.9911442786069652\n",
            "Epoch 6/10\n",
            "0.9940298507462687\n",
            "Epoch 7/10\n",
            "0.9918407960199005\n",
            "Epoch 8/10\n",
            "0.992636815920398\n",
            "Epoch 9/10\n",
            "0.9927363184079602\n",
            "Epoch 10/10\n",
            "0.992139303482587\n"
          ]
        }
      ]
    },
    {
      "cell_type": "code",
      "source": [
        "'''\n",
        "plt.plot(total_train_acc, label='Training Accuracy')\n",
        "plt.plot(total_test_acc, label='Testing Accuracy')\n",
        "plt.xlabel(\"Epochs\")\n",
        "plt.ylabel(\"Accuracy\")\n",
        "plt.legend()\n",
        "plt.grid()\n",
        "'''"
      ],
      "metadata": {
        "colab": {
          "base_uri": "https://localhost:8080/",
          "height": 279
        },
        "id": "t75zR_ajx7ZM",
        "outputId": "863ac26e-bc6c-48e7-96da-7cc553bcb58a"
      },
      "execution_count": 10,
      "outputs": [
        {
          "output_type": "display_data",
          "data": {
            "text/plain": [
              "<Figure size 432x288 with 1 Axes>"
            ],
            "image/png": "[encoded data removed]"
          },
          "metadata": {
            "needs_background": "light"
          }
        }
      ]
    },
    {
      "cell_type": "code",
      "source": [
        "'''\n",
        "plt.plot(train_loss, label='Training Loss')\n",
        "plt.plot(test_loss, label='Testing Loss')\n",
        "plt.xlabel(\"Epochs\")\n",
        "plt.ylabel(\"Loss\")\n",
        "plt.legend()\n",
        "plt.grid()\n",
        "'''"
      ],
      "metadata": {
        "colab": {
          "base_uri": "https://localhost:8080/",
          "height": 282
        },
        "id": "60locjE5x-RK",
        "outputId": "a5b03727-d2e4-464f-938e-84181b5c4229"
      },
      "execution_count": 11,
      "outputs": [
        {
          "output_type": "display_data",
          "data": {
            "text/plain": [
              "<Figure size 432x288 with 1 Axes>"
            ],
            "image/png": "[encoded data removed]"
          },
          "metadata": {
            "needs_background": "light"
          }
        }
      ]
    },
    {
      "cell_type": "markdown",
      "source": [
        "It is observed that on adding 1000 perturbed images to the train set, the test accuracy slightly decreased but the model became robust to adverserial attacks. Perturbing about 10% of the original train set would have increased the robustness of the model. But due to computation limitations, I chose to use 1000 examples for training."
      ],
      "metadata": {
        "id": "12YXKWsCtVUE"
      }
    },
    {
      "cell_type": "markdown",
      "metadata": {
        "id": "b5KpnmwiFTNu"
      },
      "source": [
        "<!-- END QUESTION -->\n",
        "\n",
        "## References\n",
        "<div><img src=\"https://github.com/LukasZhornyak/CIS680_files/raw/main/HW1/images/refs.png\"/, width=600\n",
        "         ></div>"
      ]
    },
    {
      "cell_type": "markdown",
      "metadata": {
        "id": "9S1HDcTOFTNu"
      },
      "source": [
        "## Submission\n",
        "\n",
        "Make sure you have run all cells in your notebook in order before you zip together your submission, so that all images/graphs appear in the output. \n",
        "\n",
        "For part (b), your submission should consist of two files: this notebook and the saved weights from question 3. There is no need to upload the new, retrained, weights.\n",
        "\n",
        "**Please save before exporting!**"
      ]
    }
  ]
}